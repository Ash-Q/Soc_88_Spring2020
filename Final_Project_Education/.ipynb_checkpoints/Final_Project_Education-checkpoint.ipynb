{
 "cells": [
  {
   "cell_type": "markdown",
   "metadata": {},
   "source": [
    "# Soc-88 Final Project"
   ]
  },
  {
   "cell_type": "markdown",
   "metadata": {},
   "source": [
    "This notebook is the first step for your final project.  In this notebook, you will be introduced to your dataset and guided through some analysis and visualizations that you will use for your final policy brief.  You can use some or all of the figures provided below to formulate your argument.\n",
    "\n",
    "If you want, you can perform your own analysis and create your own figures."
   ]
  },
  {
   "cell_type": "markdown",
   "metadata": {},
   "source": [
    "# The Data"
   ]
  },
  {
   "cell_type": "code",
   "execution_count": null,
   "metadata": {
    "collapsed": true
   },
   "outputs": [],
   "source": [
    "from datascience import *\n",
    "import matplotlib.pyplot as plt\n",
    "import numpy as np\n",
    "%matplotlib inline"
   ]
  },
  {
   "cell_type": "markdown",
   "metadata": {},
   "source": [
    "This dataset is a merged version of several different datasets.\n",
    "\n",
    "The first contains K-12 education data for all states over the years 1992-2017. In a broad sense, it includes financial data about the schools, enrollment data per grade group, academic achievement per state, and a breakdown of race and gender. A detailed description of the features can be found here: https://www.kaggle.com/noriuk/us-education-datasets-unification-project/download#states_all.csv The licensing permits us to use it as long as we do not identify specific students or schools.\n",
    "\n",
    "The second dataset provides poverty rate (and other related variables) by state and year, from the US Census Bureau's current population survey, which can be found here: https://www.census.gov/data/tables/time-series/demo/income-poverty/historical-poverty-people.html.  This is publicly available data.\n",
    "\n",
    "The third dataset has the percent of those aged 25-44 with a bachelors degree or higher by state and year, from the Current Population Survey, Annual Social and Economic Supplement: https://www.census.gov/cps/data/cpstablecreator.html.  This is also publicly available data."
   ]
  },
  {
   "cell_type": "code",
   "execution_count": null,
   "metadata": {},
   "outputs": [],
   "source": [
    "edu = Table.read_table('overall_data_post02.csv')\n",
    "edu"
   ]
  },
  {
   "cell_type": "markdown",
   "metadata": {},
   "source": [
    "We have cleaned the data and produced several relevant subsets which we will be using below for our analysis.  \n",
    "\n",
    "\n",
    "__Note that that the only years listed in this dataset are 1996, 2000, 2003, 2005, 2007, 2009, 2011, 2013, and 2015.__  These are the only years in which we had complete data for all three datasets."
   ]
  },
  {
   "cell_type": "markdown",
   "metadata": {},
   "source": [
    "# The Analysis"
   ]
  },
  {
   "cell_type": "markdown",
   "metadata": {},
   "source": [
    "Let's first take a look at California and see how the test scores have evolved over the years."
   ]
  },
  {
   "cell_type": "code",
   "execution_count": null,
   "metadata": {
    "scrolled": true
   },
   "outputs": [],
   "source": [
    "cali_edu = Table.read_table('california_data.csv')\n",
    "cali_edu"
   ]
  },
  {
   "cell_type": "markdown",
   "metadata": {},
   "source": [
    " "
   ]
  },
  {
   "cell_type": "markdown",
   "metadata": {},
   "source": [
    "Let's plot this. __The plot below has no labels and limited formatting.  It is your job to format the plot and to determine the axis labels and title.__"
   ]
  },
  {
   "cell_type": "code",
   "execution_count": null,
   "metadata": {},
   "outputs": [],
   "source": [
    "years = cali_edu.column(\"YEAR\")\n",
    "math4 = cali_edu.column(\"AVG_MATH_4_SCORE\")\n",
    "math8 = cali_edu.column(\"AVG_MATH_8_SCORE\")\n",
    "reading4 = cali_edu.column(\"AVG_READING_4_SCORE\")\n",
    "reading8 = cali_edu.column(\"AVG_READING_8_SCORE\")\n",
    "\n",
    "fig = plt.figure(facecolor='white', figsize=(8,8))\n",
    "ax = fig.add_subplot(111)\n",
    "\n",
    "plt.plot(years, math4)\n",
    "plt.plot(years, math8)\n",
    "plt.plot(years, reading4)\n",
    "plt.plot(years, reading8)\n",
    "\n",
    "plt.show()"
   ]
  },
  {
   "cell_type": "markdown",
   "metadata": {},
   "source": [
    " "
   ]
  },
  {
   "cell_type": "markdown",
   "metadata": {},
   "source": [
    "Let's look at something else: how students who were fourth graders in 2003 did in as eighth graders 2007 on math."
   ]
  },
  {
   "cell_type": "code",
   "execution_count": null,
   "metadata": {},
   "outputs": [],
   "source": [
    "data03 = Table.read_table('data_2003.csv')\n",
    "data07 = Table.read_table('data_2007.csv')\n",
    "\n",
    "data03"
   ]
  },
  {
   "cell_type": "markdown",
   "metadata": {},
   "source": [
    "__Again, the plot below has no labels and limited formatting.  It is your job to format the plot and to determine the axis labels and title.__"
   ]
  },
  {
   "cell_type": "code",
   "execution_count": null,
   "metadata": {},
   "outputs": [],
   "source": [
    "plt.clf()\n",
    "\n",
    "fig = plt.figure(facecolor='white', figsize=(8,8))\n",
    "ax = fig.add_subplot(111)\n",
    "\n",
    "plt.scatter(data03.column(\"AVG_MATH_4_SCORE\"), data07.column(\"AVG_MATH_8_SCORE\"))\n",
    "\n",
    "#add trendline using np.polyfit: takes x, y, and degree of polynomial (1)\n",
    "m, b = np.polyfit(data03.column(\"AVG_MATH_4_SCORE\"), data07.column(\"AVG_MATH_8_SCORE\"), 1)\n",
    "plt.plot(data03.column(\"AVG_MATH_4_SCORE\"), m*data03.column(\"AVG_MATH_4_SCORE\") + b)\n",
    "\n",
    "plt.show()"
   ]
  },
  {
   "cell_type": "markdown",
   "metadata": {},
   "source": [
    " "
   ]
  },
  {
   "cell_type": "markdown",
   "metadata": {},
   "source": [
    "Let's now see if there's any correlation between total funding per student and test scores in a given year.\n",
    "\n",
    "__Again, the plot below has no labels and limited formatting.  It is your job to format the plot and to determine the axis labels and title.__"
   ]
  },
  {
   "cell_type": "code",
   "execution_count": null,
   "metadata": {},
   "outputs": [],
   "source": [
    "plt.clf()\n",
    "\n",
    "fig = plt.figure(facecolor='white', figsize=(8,8))\n",
    "ax = fig.add_subplot(111)\n",
    "\n",
    "plt.scatter(data03.column(\"TOTAL_PER_STUDENT\"), data03.column(\"AVG_MATH_8_SCORE\"))\n",
    "\n",
    "#add trendline using np.polyfit: takes x, y, and degree of polynomial (1)\n",
    "m, b = np.polyfit(data03.column(\"TOTAL_PER_STUDENT\"), data03.column(\"AVG_MATH_8_SCORE\"), 1)\n",
    "plt.plot(data03.column(\"TOTAL_PER_STUDENT\"), m*data03.column(\"TOTAL_PER_STUDENT\") + b)\n",
    "\n",
    "plt.show()"
   ]
  },
  {
   "cell_type": "markdown",
   "metadata": {},
   "source": [
    " "
   ]
  },
  {
   "cell_type": "markdown",
   "metadata": {},
   "source": [
    "We can also look at how percent of households in poverty connect to math test scores in a given year.\n",
    "\n",
    "__Again, the plot below has no labels and limited formatting.  It is your job to format the plot and to determine the axis labels and title.__"
   ]
  },
  {
   "cell_type": "code",
   "execution_count": null,
   "metadata": {},
   "outputs": [],
   "source": [
    "plt.clf()\n",
    "\n",
    "fig = plt.figure(facecolor='white', figsize=(8,8))\n",
    "ax = fig.add_subplot(111)\n",
    "\n",
    "plt.scatter(data03.column(\"PCT_IN_POVERTY\"), data03.column(\"AVG_MATH_8_SCORE\"))\n",
    "\n",
    "#add trendline using np.polyfit: takes x, y, and degree of polynomial (1)\n",
    "m, b = np.polyfit(data03.column(\"PCT_IN_POVERTY\"), data03.column(\"AVG_MATH_8_SCORE\"), 1)\n",
    "plt.plot(data03.column(\"PCT_IN_POVERTY\"), m*data03.column(\"PCT_IN_POVERTY\") + b)\n",
    "\n",
    "plt.show()"
   ]
  },
  {
   "cell_type": "markdown",
   "metadata": {},
   "source": [
    "Let's look at correlation data for this, so the correlation between poverty rate and math scores for each year we have data for."
   ]
  },
  {
   "cell_type": "code",
   "execution_count": null,
   "metadata": {},
   "outputs": [],
   "source": [
    "pov_corr = Table.read_table(\"pov_corr_data.csv\")\n",
    "pov_corr"
   ]
  },
  {
   "cell_type": "markdown",
   "metadata": {},
   "source": [
    "__Again, the plot below has no labels and limited formatting.  It is your job to format the plot and to determine the axis labels and title.__"
   ]
  },
  {
   "cell_type": "code",
   "execution_count": null,
   "metadata": {},
   "outputs": [],
   "source": [
    "plt.clf()\n",
    "\n",
    "fig = plt.figure(facecolor='white', figsize=(8,8))\n",
    "ax = fig.add_subplot(111)\n",
    "\n",
    "plt.scatter(pov_corr.column(\"YEAR\"), pov_corr.column(\"POVERTY_MATH_SCORE_CORR\"))\n",
    "\n",
    "#add trendline using np.polyfit: takes x, y, and degree of polynomial (1)\n",
    "m, b = np.polyfit(pov_corr.column(\"YEAR\"), pov_corr.column(\"POVERTY_MATH_SCORE_CORR\"), 1)\n",
    "plt.plot(pov_corr.column(\"YEAR\"), m*pov_corr.column(\"YEAR\") + b)\n",
    "\n",
    "plt.show()"
   ]
  },
  {
   "cell_type": "markdown",
   "metadata": {},
   "source": [
    " "
   ]
  },
  {
   "cell_type": "markdown",
   "metadata": {},
   "source": [
    "A final thing to look at is how the percent of those aged 25-44 with a bachelors degree or higher connects to math test scores in a given year.\n",
    "\n",
    "__Again, the plot below has no labels and limited formatting.  It is your job to format the plot and to determine the axis labels and title.__"
   ]
  },
  {
   "cell_type": "code",
   "execution_count": null,
   "metadata": {},
   "outputs": [],
   "source": [
    "plt.clf()\n",
    "\n",
    "fig = plt.figure(facecolor='white', figsize=(8,8))\n",
    "ax = fig.add_subplot(111)\n",
    "\n",
    "plt.scatter(data03.column(\"PCT_WITH_BA\"), data03.column(\"AVG_MATH_8_SCORE\"))\n",
    "\n",
    "#add trendline using np.polyfit: takes x, y, and degree of polynomial (1)\n",
    "m, b = np.polyfit(data03.column(\"PCT_WITH_BA\"), data03.column(\"AVG_MATH_8_SCORE\"), 1)\n",
    "plt.plot(data03.column(\"PCT_WITH_BA\"), m*data03.column(\"PCT_WITH_BA\") + b)\n",
    "\n",
    "plt.show()"
   ]
  },
  {
   "cell_type": "markdown",
   "metadata": {},
   "source": [
    "Let's look at correlation data for this, so the correlation between percent of those aged 25-44 with a bachelors degree or higher and math scores for each year we have data for."
   ]
  },
  {
   "cell_type": "code",
   "execution_count": null,
   "metadata": {},
   "outputs": [],
   "source": [
    "ed_corr = Table.read_table(\"ed_corr_data.csv\")\n",
    "ed_corr"
   ]
  },
  {
   "cell_type": "markdown",
   "metadata": {},
   "source": [
    "__Again, the plot below has no labels and limited formatting.  It is your job to format the plot and to determine the axis labels and title.__"
   ]
  },
  {
   "cell_type": "code",
   "execution_count": null,
   "metadata": {},
   "outputs": [],
   "source": [
    "plt.clf()\n",
    "\n",
    "fig = plt.figure(facecolor='white', figsize=(8,8))\n",
    "ax = fig.add_subplot(111)\n",
    "\n",
    "plt.scatter(ed_corr.column(\"YEAR\"), ed_corr.column(\"ED_MATH_SCORE_CORR\"))\n",
    "\n",
    "#add trendline using np.polyfit: takes x, y, and degree of polynomial (1)\n",
    "m, b = np.polyfit(ed_corr.column(\"YEAR\"), ed_corr.column(\"ED_MATH_SCORE_CORR\"), 1)\n",
    "plt.plot(ed_corr.column(\"YEAR\"), m*ed_corr.column(\"YEAR\") + b)\n",
    "\n",
    "plt.show()"
   ]
  },
  {
   "cell_type": "markdown",
   "metadata": {},
   "source": [
    " "
   ]
  },
  {
   "cell_type": "markdown",
   "metadata": {},
   "source": [
    "Let's look now at mapping.  The map below is a __template__ for you to use to create your own maps.  __The formatting is up to you.__"
   ]
  },
  {
   "cell_type": "code",
   "execution_count": null,
   "metadata": {
    "collapsed": true
   },
   "outputs": [],
   "source": [
    "import folium\n",
    "import json\n",
    "import os\n",
    "import pandas as pd"
   ]
  },
  {
   "cell_type": "code",
   "execution_count": null,
   "metadata": {
    "collapsed": true
   },
   "outputs": [],
   "source": [
    "state_geo = json.load(open('us-states.json'))"
   ]
  },
  {
   "cell_type": "code",
   "execution_count": null,
   "metadata": {},
   "outputs": [],
   "source": [
    "center = [40, -102] # this is the geographic center of the US\n",
    "m = folium.Map(center, zoom_start=4)\n",
    "\n",
    "data03 = data03.to_df() #must turn all datascience tables into pandas dataframes\n",
    "\n",
    "folium.Choropleth(\n",
    "    geo_data=state_geo,\n",
    "    name='choropleth',\n",
    "    data=data03,\n",
    "    columns=['STATE', 'AVG_MATH_4_SCORE'],\n",
    "    key_on='feature.id',\n",
    "    fill_color='RdPu_r', #adding _r reverses the color map so low numbers have the darker shading\n",
    "    legend_name='Average 4th Grade Math Score'\n",
    ").add_to(m)\n",
    "\n",
    "folium.LayerControl().add_to(m)\n",
    "\n",
    "data03 = Table.from_df(data03) #this turns the pandas dataframe back into a datascience table\n",
    "\n",
    "m"
   ]
  },
  {
   "cell_type": "markdown",
   "metadata": {},
   "source": [
    "# Next Steps"
   ]
  },
  {
   "cell_type": "markdown",
   "metadata": {},
   "source": [
    "After formatting these plots, your task is to use these visualizations or others of your own creation in developing a policy brief, impact plan, and explainer video.  Good luck!"
   ]
  },
  {
   "cell_type": "markdown",
   "metadata": {},
   "source": [
    " "
   ]
  },
  {
   "cell_type": "markdown",
   "metadata": {},
   "source": [
    "_Additional code that may be useful if you decide to do your own data analysis:_"
   ]
  },
  {
   "cell_type": "code",
   "execution_count": null,
   "metadata": {
    "collapsed": true
   },
   "outputs": [],
   "source": [
    "#get a dataframe with data for a specific year\n",
    "def get_year(year):\n",
    "    output = cleaned_df.where(\"YEAR\", are.equal_to(year))\n",
    "    return output"
   ]
  },
  {
   "cell_type": "code",
   "execution_count": null,
   "metadata": {
    "collapsed": true
   },
   "outputs": [],
   "source": [
    "#generate data for a correlation calculation: years = a python list of years\n",
    "def get_corr_data(years):\n",
    "    year_list = []\n",
    "    table_list = []\n",
    "    for year in years:\n",
    "        data_year = get_year(year)\n",
    "        if (data_year.num_rows != 0):\n",
    "            year_list.append(year)\n",
    "            table_list.append(data_year)\n",
    "    return year_list, table_list"
   ]
  },
  {
   "cell_type": "code",
   "execution_count": null,
   "metadata": {
    "collapsed": true
   },
   "outputs": [],
   "source": [
    "#get correlations: data = your df_list generated above, x and y are strings of the desired columns\n",
    "def get_corr(data, x, y):\n",
    "    reg_outputs = []\n",
    "    for year in data:\n",
    "        reg = np.corrcoef(year.column(x), year.column(y))\n",
    "        reg_outputs.append(reg[0,1])\n",
    "    return reg_outputs"
   ]
  },
  {
   "cell_type": "code",
   "execution_count": null,
   "metadata": {
    "collapsed": true
   },
   "outputs": [],
   "source": []
  },
  {
   "cell_type": "markdown",
   "metadata": {},
   "source": [
    "_Developed by Katherine Oosterbaan and Keeley Takimoto_"
   ]
  }
 ],
 "metadata": {
  "kernelspec": {
   "display_name": "Python 3",
   "language": "python",
   "name": "python3"
  },
  "language_info": {
   "codemirror_mode": {
    "name": "ipython",
    "version": 3
   },
   "file_extension": ".py",
   "mimetype": "text/x-python",
   "name": "python",
   "nbconvert_exporter": "python",
   "pygments_lexer": "ipython3",
   "version": "3.6.8"
  }
 },
 "nbformat": 4,
 "nbformat_minor": 2
}
