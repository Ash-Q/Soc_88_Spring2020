{
 "cells": [
  {
   "cell_type": "markdown",
   "metadata": {},
   "source": [
    "# [SOC-88] Mapping Crime in San Francisco\n",
    "\n",
    "### Professor David Harding\n",
    "\n",
    "## Table of Contents\n",
    "\n",
    "[Introduction](#intro)\n",
    "\n",
    "[The Data](#data)\n",
    "\n",
    "[Base Maps](#1)\n",
    "   - [Question 1](#q1)\n",
    "\n",
    "[Markers](#2)\n",
    "   - [Question 2](#q2)\n",
    "   - [Question 3](#q3)\n",
    "   - [Question 4](#q4)\n",
    "    \n",
    "[Choropleth Maps](#3)\n",
    "   - [Question 5](#q5)\n",
    "   - [Question 6](#q6)\n",
    "\n"
   ]
  },
  {
   "cell_type": "markdown",
   "metadata": {},
   "source": [
    "## Introduction <a id='intro'></a>\n",
    "\n",
    "In this homework, you will practice different data mapping techniques you learned about in lecture and lab. The data has been taken from [SF Data](https://data.sfgov.org/), San Francisco's open data site. \n",
    "\n",
    "There are two main data files used in this assignment: **SFPD_incidents_2016.csv** and **sfpd-police-districts.geojson**. \n",
    "\n",
    "The first file, **SFPD_incidents_2016.csv**, has records of all police incidents that took place in 2016. Its columns contain information such as the latitude-longitude information of incidents, police precinct and neighborhood in which the incident occurred, time and date of the report, type of crime, etc. \n",
    "\n",
    "The second file, **sfpd-police-districts.geojson**, contains geographic information about the boundaries of San Francisco police districts. These boundaries are necessary for making choropleth plots.\n",
    "\n",
    "---\n"
   ]
  },
  {
   "cell_type": "markdown",
   "metadata": {},
   "source": [
    "We will begin by running a code cell that will load the libraries you'll be using."
   ]
  },
  {
   "cell_type": "code",
   "execution_count": null,
   "metadata": {
    "collapsed": true
   },
   "outputs": [],
   "source": [
    "# load the necessary software\n",
    "from datascience import *\n",
    "import numpy as np\n",
    "import matplotlib.pyplot as plt\n",
    "%matplotlib inline\n",
    "import datetime\n",
    "import folium\n",
    "import json"
   ]
  },
  {
   "cell_type": "markdown",
   "metadata": {},
   "source": [
    "## The Data <a id='data'></a>\n"
   ]
  },
  {
   "cell_type": "markdown",
   "metadata": {},
   "source": [
    "Our main dataset comes from the [city of San Francisco's open data portal](https://data.sfgov.org/Public-Safety/Police-Department-Incident-Reports-Historical-2003/tmnf-yvry). \n",
    "\n",
    "Run the next cell to load the incident data."
   ]
  },
  {
   "cell_type": "code",
   "execution_count": null,
   "metadata": {},
   "outputs": [],
   "source": [
    "# load SF Police Incident Data, 2016\n",
    "incidents = Table().read_table('data/SFPD_incidents_2016.csv')\n",
    "incidents.show(5)"
   ]
  },
  {
   "cell_type": "markdown",
   "metadata": {},
   "source": [
    "Each row in this table represents a different incident reported to the San Francisco Police Department (SFPD). Most of the columns are fairly intuitive, but we'll break down a few of particular interest:\n",
    "\n",
    "- `IncidntNum`and `PdId` are kinds of identifiers for each incident, used for organization within the police department.\n",
    "\n",
    "- `Category` classifies the incident as on of 37 types. We can see all possible categories using the `group` method."
   ]
  },
  {
   "cell_type": "code",
   "execution_count": null,
   "metadata": {},
   "outputs": [],
   "source": [
    "# show the unique categories\n",
    "incidents.group(\"Category\").show()"
   ]
  },
  {
   "cell_type": "markdown",
   "metadata": {},
   "source": [
    "- `Descript` gives more information on what occurred during the incident. You can think of the `Descript` as a subtype of the category in `Category`. There are too many unique descriptions to list them all; it makes more sense to select a particular category and then list the possible descriptions for only that category. In the next cell, you can view the possible `Descript` values for incidents falling under the category `\"NON-CRIMINAL\"`."
   ]
  },
  {
   "cell_type": "code",
   "execution_count": null,
   "metadata": {},
   "outputs": [],
   "source": [
    "# show the unique incident descriptions for the NON-CRIMINAL category\n",
    "incidents.where(\"Category\", \"NON-CRIMINAL\").group('Descript').show()"
   ]
  },
  {
   "cell_type": "markdown",
   "metadata": {},
   "source": [
    "- `Resolution` gives information about what the police did about the incident. Once again, we can view all possible resolution options using the `group` method"
   ]
  },
  {
   "cell_type": "code",
   "execution_count": null,
   "metadata": {},
   "outputs": [],
   "source": [
    "# show the unique resolutions\n",
    "incidents.group(\"Resolution\").show()"
   ]
  },
  {
   "cell_type": "markdown",
   "metadata": {},
   "source": [
    "- Finally, `X`, `Y`, and `Location` give geographic data about the incident. `X` represents the longitude, `Y` represents the latitude, and `Location` has both the latitude and longitude together."
   ]
  },
  {
   "cell_type": "markdown",
   "metadata": {},
   "source": [
    "## Base Maps <a id='1'></a>"
   ]
  },
  {
   "cell_type": "markdown",
   "metadata": {},
   "source": [
    "### Question 1 <a id='q1'></a>\n",
    "Create a base map centered on San Francisco. Choose an appropriate zoom start and tiles.\n",
    "\n",
    "*Note: we're going to be creating several maps in this homework, so it's easier to create variables for the starting coordinates, zoom, and tiles, and use them over and over again, rather than rewrite them in every map we make.*"
   ]
  },
  {
   "cell_type": "code",
   "execution_count": null,
   "metadata": {
    "collapsed": true
   },
   "outputs": [],
   "source": [
    "# add coordinates for San Francisco\n",
    "sf_coordinates = [..., ...]\n",
    "sf_zoom_start = ...\n",
    "sf_tiles = ...\n",
    "\n",
    "# create a map of San Francisco\n",
    "sf_map = folium.Map(location=sf_coordinates, zoom_start=sf_zoom_start, tiles=sf_tiles)\n",
    "sf_map"
   ]
  },
  {
   "cell_type": "markdown",
   "metadata": {},
   "source": [
    "## Markers <a id='2'></a>"
   ]
  },
  {
   "cell_type": "markdown",
   "metadata": {},
   "source": [
    "In the next two cells, we've isolated two police incidents for you."
   ]
  },
  {
   "cell_type": "code",
   "execution_count": null,
   "metadata": {},
   "outputs": [],
   "source": [
    "incidentA = incidents.where(\"PdId\", 16009503010045)\n",
    "incidentA"
   ]
  },
  {
   "cell_type": "code",
   "execution_count": null,
   "metadata": {},
   "outputs": [],
   "source": [
    "incidentB = incidents.where(\"PdId\", 16014933626039)\n",
    "incidentB"
   ]
  },
  {
   "cell_type": "markdown",
   "metadata": {},
   "source": [
    "### Question 2 <a id='q2'></a>\n",
    "Create a marker for each of the above incidents, including:\n",
    "* incident location\n",
    "* an appropriate and informative pop-up (appears when you hover over the marker)\n",
    "* an appropriate and informative tooltip (appears when you click on the marker)\n",
    "* an appropriate color and type for the icon, given the type of incident\n",
    "\n",
    "Hint: you can view the list of icon options at https://getbootstrap.com/docs/3.3/components/"
   ]
  },
  {
   "cell_type": "code",
   "execution_count": null,
   "metadata": {
    "collapsed": true
   },
   "outputs": [],
   "source": [
    "# a clean map for the markers\n",
    "marker_map = folium.Map(location=sf_coordinates, zoom_start=sf_zoom_start, tiles=sf_tiles)\n",
    "\n",
    "# For Incident A\n",
    "coordinateA = [..., ...]\n",
    "popupA = ...\n",
    "tooltipA = ...\n",
    "folium.Marker(location=coordinateA, popup=popupA, \n",
    "              tooltip=tooltipA, icon=folium.Icon(color=..., icon=...)).add_to(marker_map)\n",
    "\n",
    "# view the map\n",
    "marker_map"
   ]
  },
  {
   "cell_type": "code",
   "execution_count": null,
   "metadata": {
    "collapsed": true
   },
   "outputs": [],
   "source": [
    "# For Incident B\n",
    "coordinateB = [..., ...]\n",
    "popupB = ...\n",
    "tooltipB = ...\n",
    "folium.Marker(location=coordinateB, popup=popupB, \n",
    "              tooltip=tooltipB, icon=folium.Icon(color=..., icon=...)).add_to(marker_map)\n",
    "marker_map"
   ]
  },
  {
   "cell_type": "markdown",
   "metadata": {},
   "source": [
    "Next, we'd like to map all incidences of disorderly conduct.\n",
    "\n",
    "First, we make a table that only contains disorderly conduct incidents."
   ]
  },
  {
   "cell_type": "code",
   "execution_count": null,
   "metadata": {},
   "outputs": [],
   "source": [
    "# filter for just disorderly conduct\n",
    "disorderly = incidents.where(\"Category\", \"DISORDERLY CONDUCT\")\n",
    "disorderly.show(3)"
   ]
  },
  {
   "cell_type": "markdown",
   "metadata": {},
   "source": [
    "### Question 3 <a id='q3'></a>\n",
    "Fill in the code below to create markers for all disorderly conduct incidents.\n",
    "\n",
    "As in question 2, choose the appropriate coordinates, popup, tooltip, color, and icon for the type of incident."
   ]
  },
  {
   "cell_type": "code",
   "execution_count": null,
   "metadata": {
    "collapsed": true
   },
   "outputs": [],
   "source": [
    "# create a clean map for the disorderly conduct incidents\n",
    "disorderly_map = folium.Map(location=sf_coordinates, tiles=sf_tiles, zoom_start=sf_zoom_start)\n",
    "\n",
    "# make a marker for each disorderly conduct incident\n",
    "for i in range(disorderly.num_rows):\n",
    "    incidentC = disorderly.take(i)\n",
    "    coordinateC = [..., ...]\n",
    "    popupC = ...\n",
    "    tooltipC = ...\n",
    "    folium.Marker(location=coordinateC, popup=popupC, \n",
    "                  tooltip=tooltipC, icon=folium.Icon(color=..., icon=...)).add_to(disorderly_map)\n",
    "    \n",
    "# show the map\n",
    "disorderly_map"
   ]
  },
  {
   "cell_type": "markdown",
   "metadata": {},
   "source": [
    "### Question 4 <a id='q4'></a>\n",
    "\n",
    "Describe the features you chose for questions 1, 2, and 3, including:\n",
    "* map tiles\n",
    "* marker icon\n",
    "* marker color\n",
    "* marker popup and tooltip\n",
    "\n",
    "Why were those features good for the data in those questions?"
   ]
  },
  {
   "cell_type": "markdown",
   "metadata": {},
   "source": [
    "*Replace this line with your answer*"
   ]
  },
  {
   "cell_type": "markdown",
   "metadata": {},
   "source": [
    "## Choropleth maps <a id='3'></a>"
   ]
  },
  {
   "cell_type": "markdown",
   "metadata": {},
   "source": [
    "In this section, you're going to create a choropleth map with the number of non-criminal mental health related incidents in each district.\n",
    "\n",
    "First, we need to load the geojson file that gives the boundaries for the police districts. Run the next cell to load the geojson."
   ]
  },
  {
   "cell_type": "code",
   "execution_count": null,
   "metadata": {
    "collapsed": true
   },
   "outputs": [],
   "source": [
    "# load SFPD district boundaries\n",
    "sf_districts = json.load(open('data/sf-police-districts.geojson'))\n",
    "sf_districts"
   ]
  },
  {
   "cell_type": "markdown",
   "metadata": {},
   "source": [
    "You can see the districts overlaid onto the San Francisco Map by running the next cell."
   ]
  },
  {
   "cell_type": "code",
   "execution_count": null,
   "metadata": {},
   "outputs": [],
   "source": [
    "# make the folium geojson object and add to a map of SF\n",
    "m = folium.Map(sf_coordinates, zoom_start=sf_zoom_start, tiles=sf_tiles)\n",
    "\n",
    "folium.GeoJson(\n",
    "    sf_districts,\n",
    "    style_function=lambda feature: {\n",
    "        'fillColor': 'white',\n",
    "        'color': 'blue',\n",
    "        'weight': 2,\n",
    "        'dashArray': '5, 5'\n",
    "    }\n",
    ").add_to(m)\n",
    "m"
   ]
  },
  {
   "cell_type": "markdown",
   "metadata": {},
   "source": [
    "To make our choropleth overlay, we must first get the counts of mental health incidents by district. First, we use the `where` method to select only the incidents that have a description of \"AIDED CASE, MENTAL DISTURBED\"."
   ]
  },
  {
   "cell_type": "code",
   "execution_count": null,
   "metadata": {},
   "outputs": [],
   "source": [
    "# mental health related incidents\n",
    "mental_health = incidents.where(\"Descript\", are.equal_to(\"AIDED CASE, MENTAL DISTURBED\"))\n",
    "mental_health.show(3)"
   ]
  },
  {
   "cell_type": "markdown",
   "metadata": {},
   "source": [
    "Next, we use `group` to get the counts of mental health incidents per police district."
   ]
  },
  {
   "cell_type": "code",
   "execution_count": null,
   "metadata": {},
   "outputs": [],
   "source": [
    "# get the counts of mental health incidents by district\n",
    "mental_health_by_district = mental_health.group(\"PdDistrict\")\n",
    "mental_health_by_district"
   ]
  },
  {
   "cell_type": "markdown",
   "metadata": {},
   "source": [
    "And finally, we convert the counts to a DataFrame so that it works with the Folium software."
   ]
  },
  {
   "cell_type": "code",
   "execution_count": null,
   "metadata": {},
   "outputs": [],
   "source": [
    "# convert to DataFrame\n",
    "mental_health_df = mental_health_by_district.to_df()\n",
    "mental_health_df.head()"
   ]
  },
  {
   "cell_type": "markdown",
   "metadata": {},
   "source": [
    "### Question 5 <a id='q5'></a>\n",
    "Complete the following code to create a choropleth overlay showing the counts of mental health incidents for each police district. Choose an appropriate and informative:\n",
    "* fill color (using a colormap)\n",
    "* fill opacity\n",
    "* legend name\n",
    "\n",
    "Hint: you can find colormap options at https://matplotlib.org/gallery/color/colormap_reference.html"
   ]
  },
  {
   "cell_type": "code",
   "execution_count": null,
   "metadata": {
    "collapsed": true
   },
   "outputs": [],
   "source": [
    "# create a clean map for the choropleth\n",
    "m = folium.Map(sf_coordinates, zoom_start=sf_zoom_start, tiles=sf_tiles)\n",
    "\n",
    "# create the choropleth overlay\n",
    "folium.Choropleth(\n",
    "    geo_data=sf_districts,\n",
    "    data=mental_health_df,\n",
    "    columns=['PdDistrict', 'count'],\n",
    "    key_on='feature.properties.district',\n",
    "    fill_color=...,\n",
    "    fill_opacity=...,\n",
    "    legend_name=...\n",
    ").add_to(m)\n",
    "m"
   ]
  },
  {
   "cell_type": "markdown",
   "metadata": {},
   "source": [
    "### Question 6 <a id='q6'></a>\n",
    "Explain your design choices for the choropleth map. What options did you consider? What options did you end up choosing, and why? Be sure to reference the context of the data when you explain your choices."
   ]
  },
  {
   "cell_type": "markdown",
   "metadata": {},
   "source": [
    "*Replace this line with your response*"
   ]
  },
  {
   "cell_type": "markdown",
   "metadata": {},
   "source": [
    "----\n",
    "\n",
    "\n",
    "Data Science Modules: http://data.berkeley.edu/education/modules\n",
    "\n",
    "Data Science Offerings at Berkeley: https://data.berkeley.edu/academics/undergraduate-programs/data-science-offerings\n",
    "\n"
   ]
  },
  {
   "cell_type": "markdown",
   "metadata": {},
   "source": [
    "Notebook developed by: Keeley Takimoto"
   ]
  }
 ],
 "metadata": {
  "kernelspec": {
   "display_name": "Python 3",
   "language": "python",
   "name": "python3"
  },
  "language_info": {
   "codemirror_mode": {
    "name": "ipython",
    "version": 3
   },
   "file_extension": ".py",
   "mimetype": "text/x-python",
   "name": "python",
   "nbconvert_exporter": "python",
   "pygments_lexer": "ipython3",
   "version": "3.6.8"
  }
 },
 "nbformat": 4,
 "nbformat_minor": 2
}
