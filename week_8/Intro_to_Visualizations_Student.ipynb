{
 "cells": [
  {
   "cell_type": "markdown",
   "metadata": {},
   "source": [
    "# Visualization Basics\n",
    "By Ashley Quiterio"
   ]
  },
  {
   "cell_type": "code",
   "execution_count": null,
   "metadata": {
    "collapsed": true
   },
   "outputs": [],
   "source": [
    "import numpy as np\n",
    "import pandas as pd\n",
    "from datascience import *"
   ]
  },
  {
   "cell_type": "markdown",
   "metadata": {},
   "source": [
    "## Components of graphs"
   ]
  },
  {
   "cell_type": "markdown",
   "metadata": {},
   "source": [
    "Every graph has components that allow us to understand the data that is being represented. These components improve the quality of your graph, and make it easier for the reader to understand. We will go over how to modify these components based on what you want. **We will review a few functions to customize your graphs and plots. You can follow this [link](https://matplotlib.org/3.1.1/api/pyplot_summary.html) and see more of the functions that can be used in `matplotlib.pyplot`.**\n",
    "\n",
    "Note: Everything below will reference the `matplotlib.pyplot` package which I have imported as `plt` in the line below. If you change the name you import it as, then you will want to replace the name you decide with every `plt` below."
   ]
  },
  {
   "cell_type": "code",
   "execution_count": null,
   "metadata": {
    "collapsed": true
   },
   "outputs": [],
   "source": [
    "import matplotlib.pyplot as plt\n",
    "%matplotlib inline"
   ]
  },
  {
   "cell_type": "markdown",
   "metadata": {},
   "source": [
    "### Displaying graph"
   ]
  },
  {
   "cell_type": "markdown",
   "metadata": {
    "collapsed": true
   },
   "source": [
    "In this notebook, the plots are being displayed directly after the code, because we used `%matplotlib inline` at the beginning of this notebook. If we did not have this line, then the plots would not appear. However, there is another way to display plots without using inline. You can use `plt.show()`. However, this requires that you makes some sort of plot before hand. If you are to run just `plt.show()` by itself it should not produce anything."
   ]
  },
  {
   "cell_type": "code",
   "execution_count": null,
   "metadata": {},
   "outputs": [],
   "source": [
    "plt.title(\"Name\")\n",
    "plt.show()"
   ]
  },
  {
   "cell_type": "markdown",
   "metadata": {},
   "source": [
    "In the last line of your plot it is good practice to add a semi-colon `;`, which will get rid of the weird text directly above your plot. The semi-colon does not change the code, so it is not absolutely necessary, but it does make it look nicer."
   ]
  },
  {
   "cell_type": "markdown",
   "metadata": {},
   "source": [
    "### Complex Plots"
   ]
  },
  {
   "cell_type": "markdown",
   "metadata": {},
   "source": [
    "When initializing plots you can set up a figure using `plt.figure()` which creates a place for a plot. There are two key arguments you may want to adjust. \n",
    "\n",
    "- The first is `figsize` which is set equal to what you want the dimensions of your final plot to be. \n",
    "- The second is `facecolor`, which controls the color of the axes and border around the plot."
   ]
  },
  {
   "cell_type": "code",
   "execution_count": null,
   "metadata": {},
   "outputs": [],
   "source": [
    "plt.figure(facecolor='white', figsize=(8,8));"
   ]
  },
  {
   "cell_type": "markdown",
   "metadata": {},
   "source": [
    "We will see what the above code looks like in the actual plot in an example below. Traditionally, it is written as `fig = plt.figure()`, so that we can reference it in the future."
   ]
  },
  {
   "cell_type": "code",
   "execution_count": null,
   "metadata": {},
   "outputs": [],
   "source": [
    "fig = plt.figure();"
   ]
  },
  {
   "cell_type": "markdown",
   "metadata": {},
   "source": [
    "When alone, the figure does not create an image. It must be combined with a description of the number of plots you want to look at. We describe how many plots will be in this space by adding subplots using `fig.add_subplot(...)`. This references the fig we created in the line above. It is best to keep the fig and subplots together in the same cell to avoid confusion. Note it is tradition that we label each subplot with ax. Make sure if you have multiple subplots to number them with different values, so that you can reference each one individually. \n",
    "\n",
    "The number provided within the subplot function represent the number of plots and the dimensions you are creating.If we use `111`, then it creates a 1x1 grid in the first subplot. "
   ]
  },
  {
   "cell_type": "code",
   "execution_count": null,
   "metadata": {},
   "outputs": [],
   "source": [
    "fig = plt.figure(facecolor='white', figsize=(8,8));\n",
    "ax = fig.add_subplot(111)"
   ]
  },
  {
   "cell_type": "markdown",
   "metadata": {},
   "source": [
    "We can create a 2x1 grid in the first subplot which has longer x axis visually. You can remember which axis is going to be extended. It is number of rows by the number of columns. In this example, we have have 2 rows and 1 column. You reference each plot by changing the last number in the subplot."
   ]
  },
  {
   "cell_type": "code",
   "execution_count": null,
   "metadata": {},
   "outputs": [],
   "source": [
    "fig = plt.figure(facecolor='white', figsize=(8,8));\n",
    "\n",
    "# Plot 1 (subplot number ends with 1)\n",
    "ax = fig.add_subplot(211)\n",
    "\n",
    "# Plot 2 (subplot number ends with 2)\n",
    "ax1 = fig.add_subplot(212)"
   ]
  },
  {
   "cell_type": "markdown",
   "metadata": {},
   "source": [
    "Or, a 1x2 grid in the first subplot which has a longer y axis (meaning 1 row and 2 columns)"
   ]
  },
  {
   "cell_type": "code",
   "execution_count": null,
   "metadata": {},
   "outputs": [],
   "source": [
    "fig = plt.figure(facecolor='white', figsize=(8,8));\n",
    "ax = fig.add_subplot(121)\n",
    "ax1 = fig.add_subplot(122)"
   ]
  },
  {
   "cell_type": "markdown",
   "metadata": {},
   "source": [
    "### Question 1\n",
    "Let's try it out by making a plot that is 8x8 grid and has 2 subplots which are next to each other like columns. Plot the line y = x and y = -x on the separate plots. If you get stuck on how to add plots to the different subplots, look at the documentation [here](https://matplotlib.org/3.1.0/gallery/subplots_axes_and_figures/subplots_demo.html)."
   ]
  },
  {
   "cell_type": "code",
   "execution_count": null,
   "metadata": {},
   "outputs": [],
   "source": [
    "fig = plt.figure(...)\n",
    "\n",
    "ax = ...\n",
    "ax.plot(np.arange(0,10), np.arange(0,10));\n",
    "\n",
    "ax1 = ...\n",
    "ax1.plot(np.arange(0,10), -np.arange(0,10));"
   ]
  },
  {
   "cell_type": "markdown",
   "metadata": {},
   "source": [
    "### Labeling your graphs (X-axis, Y-axis, Title)"
   ]
  },
  {
   "cell_type": "markdown",
   "metadata": {},
   "source": [
    "A benefit to using figures and axes is that they allow you to customize more aspects of your plot such as the font and font size of the axes. You can add a label to your x-axis, y-axis, and a title for your plot. By adding to the ax you are working on. The function names are `set_xlabel(...)`, `set_ylabel(...)`, and `set_title(...)`. Each of these functions can take in the following arguments depending on which part you want to customize.\n",
    "\n",
    "Here are the names of the arguments and the values you can assign them to:\n",
    "- **First argument:** String of the label name\n",
    "- **fontname:** Set equal to a string containing the type of font you want.\n",
    "- **fontsize:** Set equal to a number that represents how large/small you want your text to be.\n",
    "- **weight:** Change thickness of text (bold/thin).\n",
    "- **color:** Set equal to color with the name of the color, the abbreviation, or a grayscale number.\n",
    "\n",
    "Note: `set_title(...)` has a unique argument called `loc` which you can set equal to right or left to change the position of the text. The axes labels have something similar with the argument called `position`.\n",
    "\n",
    "Find more information on color [here.](https://matplotlib.org/2.0.2/api/colors_api.html) And, you can see the large variety of fonts available in matplotlib [here](http://jonathansoma.com/lede/data-studio/matplotlib/list-all-fonts-available-in-matplotlib-plus-samples/). Some of the fonts no longer work, but most still are available.\n",
    "\n",
    "\n"
   ]
  },
  {
   "cell_type": "code",
   "execution_count": null,
   "metadata": {},
   "outputs": [],
   "source": [
    "fig = plt.figure(facecolor='white', figsize=(8,8))\n",
    "ax = fig.add_subplot(111)\n",
    "plt.plot(np.arange(0,10), -5*np.arange(0,10));\n",
    "\n",
    "# Changing x labels\n",
    "ax.set_xlabel('x axis label', fontname=\"Comic Sans MS\", fontsize=50, weight='bold', color='red');\n",
    "\n",
    "# Changing y labels\n",
    "ax.set_ylabel('y axis label', fontname=\"serif\", fontsize=20, weight='light', color='c');\n",
    "\n",
    "# Add title\n",
    "ax.set_title('New title', fontname = 'Impact', fontsize=30, loc='right', color='0.75');"
   ]
  },
  {
   "cell_type": "markdown",
   "metadata": {},
   "source": [
    "### Question 2\n",
    "Try plotting a the same two lines (y = x and y = -x) in the following plot, but have the plots look like different rows. Add appropriate labels and title your plot as \"Positive & Negative slope\". Use a font that is different from the default and use it for all labels, and use an appropriate color for your labels."
   ]
  },
  {
   "cell_type": "code",
   "execution_count": null,
   "metadata": {},
   "outputs": [],
   "source": [
    "fig = plt.figure(figsize=(8,8))\n",
    "ax = ...\n",
    "ax.plot(...);\n",
    "\n",
    "ax1 = ...\n",
    "ax1.plot(...);\n",
    "\n",
    "ax1.set_xlabel(...)\n",
    "ax1.set_ylabel(...)\n",
    "ax.set_title(...);"
   ]
  },
  {
   "cell_type": "markdown",
   "metadata": {},
   "source": [
    "### Saving Graphs"
   ]
  },
  {
   "cell_type": "markdown",
   "metadata": {},
   "source": [
    "An important aspect of making graphs is having a way to save them from the Jupyter Notebook, so that they can be used to support other work. To save our figures, we can use the matplotlib function called `savefig(\"file name\")` which will save your image in your DataHub, so that you can download it from there. Learn more [here](https://matplotlib.org/3.1.0/api/_as_gen/matplotlib.pyplot.savefig.html).\n",
    "\n",
    "If you update your graph, then you can run the cell and it will update the image in your datahub. **If you want to keep both versions, then you must add a different name to your image before you run the cell again, or else you will lose the original graph.** I would recommend making a new graph in a new cell rather than changing the code in a plot you want to keep."
   ]
  },
  {
   "cell_type": "code",
   "execution_count": null,
   "metadata": {},
   "outputs": [],
   "source": [
    "fig = plt.figure(facecolor='white', figsize=(8,8))\n",
    "ax = fig.add_subplot(111)\n",
    "plt.plot(np.arange(0,10), 0*np.arange(0,10));\n",
    "\n",
    "ax.set_xlabel('x axis label', fontname=\"serif\", fontsize=20);\n",
    "ax.set_ylabel('y axis label', fontname=\"serif\", fontsize=20);\n",
    "ax.set_title('New title',fontname=\"serif\", fontsize=30, loc='center', weight='bold')\n",
    "\n",
    "plt.savefig('Example_plot')"
   ]
  },
  {
   "cell_type": "markdown",
   "metadata": {},
   "source": [
    "### Axes Limits and ticks"
   ]
  },
  {
   "cell_type": "markdown",
   "metadata": {},
   "source": [
    "Another feature you can edit on your graph are the bounds of your x-axis and y-axis. Note the last number in your bound is included which is different than `np.arange(...)` which does not include the last number."
   ]
  },
  {
   "cell_type": "code",
   "execution_count": null,
   "metadata": {},
   "outputs": [],
   "source": [
    "fig = plt.figure(facecolor='white', figsize=(8,8))\n",
    "ax = fig.add_subplot(111)\n",
    "plt.plot(np.arange(0,10), np.arange(0,10));\n",
    "\n",
    "# Change x-axis limit \n",
    "ax.set_xlim(0,9)\n",
    "\n",
    "# Change y-axis limit\n",
    "ax.set_ylim(0, 9);"
   ]
  },
  {
   "cell_type": "markdown",
   "metadata": {},
   "source": [
    "You can also manually set the axis labels of your plot using `set_xticks(...)` and `set_xtickslabels(...)`. Or, `set_yticks(...)` and `set_ytickslabels(...)` for the y axis. The first changes the number of ticks that are displayed, and numbers them starting from 0, and the second argument changes the labels on the plot.\n",
    "\n",
    "It is possible to add labels that inaccurately represent the plot if you change the ticklabels, so be careful with this function. However, it is useful if you wish to change the font and size of the actual labels on your axis.\n",
    "\n",
    "### Question 3\n",
    "Below there is a mistake in the plot. Change the plot so that it demonstrates the line y=x."
   ]
  },
  {
   "cell_type": "code",
   "execution_count": null,
   "metadata": {},
   "outputs": [],
   "source": [
    "fig = plt.figure(facecolor='white', figsize=(8,8))\n",
    "ax = fig.add_subplot(111)\n",
    "plt.plot(np.arange(0,10), np.arange(0,10));\n",
    "\n",
    "ax.set_xticks(np.arange(20))\n",
    "ax.set_xticklabels(2*np.arange(0,20), fontsize=15);\n",
    "\n",
    "ax.set_yticks(np.arange(20));"
   ]
  },
  {
   "cell_type": "markdown",
   "metadata": {},
   "source": [
    "### Single Plot graphs"
   ]
  },
  {
   "cell_type": "markdown",
   "metadata": {},
   "source": [
    "By making figures and adding axes we are able to customize different plots easily. However, if you are not interested in customizing some features, and only want to plot one plot, then there are parallel fuctions you can use without making a figure. Here is an example."
   ]
  },
  {
   "cell_type": "code",
   "execution_count": null,
   "metadata": {},
   "outputs": [],
   "source": [
    "# LABELS\n",
    "plt.xlabel(\"x-axis\")\n",
    "plt.ylabel(\"y-axis\")\n",
    "plt.title(\"Title\", loc='left');\n",
    "\n",
    "# AXES LIMITS\n",
    "plt.xlim(0,1000)\n",
    "plt.ylim(0, 8);"
   ]
  },
  {
   "cell_type": "markdown",
   "metadata": {},
   "source": [
    "#### xticks and yticks"
   ]
  },
  {
   "cell_type": "markdown",
   "metadata": {},
   "source": [
    "There are often times where you may want to have a different range of values on your x or y axis. Using `plt.xticks()` or `plt.yticks()`, you can customize the number of values represented on each axis. \n",
    "\n",
    "Both require 2 arguments in the function:\n",
    "- The first is an array of the number of ticks you want on the plot.\n",
    "- The second is an array of numbers or values you want displayed on each tick for the array in the first argument.\n",
    "\n",
    "\n",
    "Here is an example. We are making 4 ticks. The first at index 0, the second at index 1, and so on and so forth. The numbers that go into those place are based on the second array. The number of ticks does not have to be the same in x and y axis\n"
   ]
  },
  {
   "cell_type": "code",
   "execution_count": null,
   "metadata": {},
   "outputs": [],
   "source": [
    "# Changing x\n",
    "plt.xticks(np.arange(4), np.array([10, 20, 30, 40]))\n",
    "\n",
    "# Changing y\n",
    "plt.yticks(np.arange(8), np.array([5, 10, 15, 20, 25, 30, 35, 40]));"
   ]
  },
  {
   "cell_type": "markdown",
   "metadata": {},
   "source": [
    "Word of caution: It is best that the arrays inputted into your graphs are the same length. If your first array is longer, then there will be ticks without labels. If your second array is longer, then it will not display the values that are out of the range."
   ]
  },
  {
   "cell_type": "markdown",
   "metadata": {},
   "source": [
    "#### Legend"
   ]
  },
  {
   "cell_type": "markdown",
   "metadata": {},
   "source": [
    "If your plot has multiple lines, it is important to add a legend to your plot, so that you can distinguish between different lines. Here is an example plot with multiple lines and how to add a legend using `plt.legend(list_of_labels)`. If the code to make the plots is confusing, it will be explained more in depth in the next section."
   ]
  },
  {
   "cell_type": "code",
   "execution_count": null,
   "metadata": {},
   "outputs": [],
   "source": [
    "plt.plot([10, 4])\n",
    "plt.plot([5, 5])\n",
    "plt.plot([3, 9])\n",
    "\n",
    "plt.legend(['a', 'b', 'c']);"
   ]
  },
  {
   "cell_type": "markdown",
   "metadata": {},
   "source": [
    "#### Grid"
   ]
  },
  {
   "cell_type": "markdown",
   "metadata": {},
   "source": [
    "Another key feature of plots is having a grid in the background, so it is easier to distinguish where lines are in comparison to each other."
   ]
  },
  {
   "cell_type": "code",
   "execution_count": null,
   "metadata": {},
   "outputs": [],
   "source": [
    "plt.grid();"
   ]
  },
  {
   "cell_type": "code",
   "execution_count": null,
   "metadata": {},
   "outputs": [],
   "source": [
    "plt.plot([10, 4])\n",
    "plt.plot([5, 5])\n",
    "plt.plot([3, 9])\n",
    "\n",
    "plt.legend(['a', 'b', 'c']);\n",
    "plt.grid();"
   ]
  },
  {
   "cell_type": "markdown",
   "metadata": {},
   "source": [
    "## Different Graphs"
   ]
  },
  {
   "cell_type": "markdown",
   "metadata": {},
   "source": [
    "These are the most common types of visualizations that are used in Data 8: bar charts, histograms, line plots, scatterplots. We will be going more in depth as to how to customize your plots and adding the proper components to make it easier for the observer to understand what it means."
   ]
  },
  {
   "cell_type": "markdown",
   "metadata": {},
   "source": [
    "### Bar Charts\n",
    "Bar charts are a way to display the relationship between a categorical vaiable and a numerical variable. There is a bar for each category you want to represent, and the length of the bar represents the numerical variable paired with each category. The width of the bins should be the same, so that you are only comparing the lengths of the bars and not their lengths and widths. You do not want to compare both, because we are only looking at only one numerical variable. We do not need to be concerned with another number."
   ]
  },
  {
   "cell_type": "code",
   "execution_count": null,
   "metadata": {},
   "outputs": [],
   "source": [
    "favorite_1 = Table().with_columns(\"Color\", ['Blue', 'Green', 'Red', 'Purple'],'Count', [10, 4, 5, 11])\n",
    "favorite_1"
   ]
  },
  {
   "cell_type": "markdown",
   "metadata": {},
   "source": [
    "In Data 8, here is how we have traditionally made a bar chart to represent our data."
   ]
  },
  {
   "cell_type": "code",
   "execution_count": null,
   "metadata": {},
   "outputs": [],
   "source": [
    "# This creates a horizontal bar chart with the same labels as those found in the table\n",
    "favorite_1.barh('Color'); "
   ]
  },
  {
   "cell_type": "markdown",
   "metadata": {},
   "source": [
    "#### COLOR"
   ]
  },
  {
   "cell_type": "markdown",
   "metadata": {},
   "source": [
    "However, to make a more customized bar chart, we can use the matplotlib version of `plt.barh(categories_array, numerical_array, color)`. Note the order of the bars is the opposite of the bars in the Data 8 version of the plot."
   ]
  },
  {
   "cell_type": "code",
   "execution_count": null,
   "metadata": {},
   "outputs": [],
   "source": [
    "plt.barh(favorite_1.column(0), favorite_1.column(1), color=['blue','green','red','purple'])\n",
    "plt.xlabel(\"Number of People\")\n",
    "plt.ylabel(\"Favorite Color\")\n",
    "plt.title(\"People's Favorite Colors\");"
   ]
  },
  {
   "cell_type": "markdown",
   "metadata": {},
   "source": [
    "Let's compare this plot with the plot values sorted. To do this, we can sort the original table in descending order, then plot it."
   ]
  },
  {
   "cell_type": "code",
   "execution_count": null,
   "metadata": {},
   "outputs": [],
   "source": [
    "sorted_favorite = favorite_1.sort('Count')\n",
    "sorted_favorite"
   ]
  },
  {
   "cell_type": "code",
   "execution_count": null,
   "metadata": {},
   "outputs": [],
   "source": [
    "sorted_favorite.barh('Color'); "
   ]
  },
  {
   "cell_type": "code",
   "execution_count": null,
   "metadata": {},
   "outputs": [],
   "source": [
    "plt.barh(sorted_favorite.column(0), sorted_favorite.column(1), color=['green','red','blue','purple'])\n",
    "plt.xlabel(\"Number of People\")\n",
    "plt.ylabel(\"Favorite Color\")\n",
    "plt.title(\"People's Favorite Colors\");"
   ]
  },
  {
   "cell_type": "markdown",
   "metadata": {},
   "source": [
    "### Question 4\n",
    "Using the figure format from above, make the bar chart in the cell above with Serif font and size 25 font. Save the figure as \"Fav_Colors\". You can leave the xticks and yticks as they are or change them as you see fit."
   ]
  },
  {
   "cell_type": "code",
   "execution_count": null,
   "metadata": {},
   "outputs": [],
   "source": [
    "..."
   ]
  },
  {
   "cell_type": "markdown",
   "metadata": {},
   "source": [
    "#### VERTICAL BAR CHART"
   ]
  },
  {
   "cell_type": "markdown",
   "metadata": {},
   "source": [
    "We can also represent the data as a vertical bar chart. In Data 8, using `tbl.bar(...)`. Notice that we provided the xticks, so that there were not double labels."
   ]
  },
  {
   "cell_type": "code",
   "execution_count": null,
   "metadata": {},
   "outputs": [],
   "source": [
    "sorted_favorite.bar('Color')\n",
    "plt.ylabel(\"Number of People\")\n",
    "\n",
    "# xticks works with categorical types as well.\n",
    "plt.xticks(np.arange(4), ['Green', 'Red','Blue','Purple'])\n",
    "plt.xlabel(\"Favorite Color\")\n",
    "plt.title(\"People's Favorite Colors\");"
   ]
  },
  {
   "cell_type": "markdown",
   "metadata": {},
   "source": [
    "It is also possible to make a vertical bar chart using matplotlib directly with `plt.bar()`"
   ]
  },
  {
   "cell_type": "code",
   "execution_count": null,
   "metadata": {},
   "outputs": [],
   "source": [
    "plt.bar(sorted_favorite.column(0), sorted_favorite.column(1))\n",
    "plt.ylabel(\"Number of People\")\n",
    "plt.xlabel(\"Favorite Color\")\n",
    "plt.title(\"People's Favorite Colors\");"
   ]
  },
  {
   "cell_type": "markdown",
   "metadata": {
    "collapsed": true
   },
   "source": [
    "## Histograms\n",
    "\n",
    "Histograms are a way to contextualize a single set of numerical values. Histograms give you a way to understand how you data set is spread out. The spread is determined by the bins that represent the data. Bins are ranges that group close values of the data together. \n",
    "\n",
    "(Side note: The widths of bins do not have to be equal. They can be unequal, the histogram will still have the same area, so long as the height is readjusted to different sized bins)\n",
    "\n",
    "For example, one of your bins can be including all numbers between 10 and 20, and your next bin can hold numbers in the range of 20 to 30. *Bins do not include the last number in their range.*\n",
    "\n",
    "Histograms are special, because they will calculate the percent per unit relative to your variable. This means that you can calculate the percentage of your data that is in a certain range. This percentage is the area of your histogram.\n",
    "\n",
    "\n",
    "#### Area of Histograms\n",
    "\n",
    "Area of a histogram is equal to the height of a bar multiplied by the width of the bar.  \n",
    "\n",
    "$Area = Width * Height$\n",
    "\n",
    "Logic of Units: The area is equivalent to the percentage of the graph that a bin or multiple bins represents. In terms of the formula, area is the unit of width mutlitplied by the percent per unit on the height axis. The units cancel out to leave only the percent.\n",
    "\n",
    "$Percent = Unit * \\frac{Percent}{Unit}$\n"
   ]
  },
  {
   "cell_type": "markdown",
   "metadata": {},
   "source": [
    "Here is a sample of weights from some unknown population."
   ]
  },
  {
   "cell_type": "code",
   "execution_count": null,
   "metadata": {},
   "outputs": [],
   "source": [
    "weights = Table().with_columns(\"T\", np.array([100, 101, 200, 150, 139, 180, 90, 125, 114, 160, 280, 145]))\n",
    "weights"
   ]
  },
  {
   "cell_type": "markdown",
   "metadata": {},
   "source": [
    "We can plot it using the Data 8 table method `tbl.hist(...)`, which requires a column of numerical values. Note the y-axis is automatically labeled as \"percent per unit\"."
   ]
  },
  {
   "cell_type": "code",
   "execution_count": null,
   "metadata": {},
   "outputs": [],
   "source": [
    "weights.hist('T')\n",
    "plt.xlabel(\"Weight (Pounds)\")\n",
    "plt.title(\"Distribution of Weights\");"
   ]
  },
  {
   "cell_type": "markdown",
   "metadata": {},
   "source": [
    "Or, we can use matplotlib directly with `plt.hist(numerical_array)`. Note the default y-axis is different than the Data 8 version. **This axis represents the number of data points in each bin.** The shape of the two distributions are the same, but they represent different information."
   ]
  },
  {
   "cell_type": "code",
   "execution_count": null,
   "metadata": {},
   "outputs": [],
   "source": [
    "plt.hist(weights.column('T'))\n",
    "plt.xlabel(\"Weight (Pounds)\")\n",
    "plt.ylabel('Count per bin')\n",
    "plt.title(\"Distribution of Weights\");"
   ]
  },
  {
   "cell_type": "markdown",
   "metadata": {},
   "source": [
    "#### DENSITY"
   ]
  },
  {
   "cell_type": "markdown",
   "metadata": {},
   "source": [
    "As seen above with matplotlib, we can represent different values per each bin. We can display the counts or we can represent the percents. If you add the `density = True` argument to `plt.hist(...)`, then the histogram will be in terms of proportion per unit. By this, I mean that you must multiply the height of the bar by 100 to get the percentage per unit within that bar. "
   ]
  },
  {
   "cell_type": "code",
   "execution_count": null,
   "metadata": {},
   "outputs": [],
   "source": [
    "plt.hist(weights.column('T'), density=True)\n",
    "plt.xlabel(\"Weight (Pounds)\")\n",
    "plt.ylabel('Proportion per unit')\n",
    "plt.title(\"Distribution of Weights\");"
   ]
  },
  {
   "cell_type": "markdown",
   "metadata": {},
   "source": [
    "In the Data 8 version, the default is in percentages (already multiplied by 100). However, you can get the counts by making the density argument False."
   ]
  },
  {
   "cell_type": "code",
   "execution_count": null,
   "metadata": {},
   "outputs": [],
   "source": [
    "weights.hist('T', density = False)\n",
    "plt.xlabel(\"Weight (Pounds)\")\n",
    "plt.title(\"Distribution of Weights\");"
   ]
  },
  {
   "cell_type": "markdown",
   "metadata": {},
   "source": [
    "#### BINS"
   ]
  },
  {
   "cell_type": "markdown",
   "metadata": {},
   "source": [
    "Bins are the boxes that hold your data. They can be different sizes, but it is good pratice to have bins of all the same size, so that is easier to compare the percent of your data that is captured within one specific bin. \n",
    "\n",
    "There are two different types of bins you can provide. First, you can let python decide the actual intervals, and just provide the number of intervals you want in your final plot as seen below. Rather than have 10 bins as in the original plot above, we want to have 5 bins and another plot with 15 bins to compare how the data is distributed. \n",
    "\n",
    "### Question 5\n",
    "Plot two histograms with different bins sizes to compare them. You can either make a figure with 2 subplots or make 2 separate single plots. Make sure you plots are properly labeled."
   ]
  },
  {
   "cell_type": "code",
   "execution_count": null,
   "metadata": {},
   "outputs": [],
   "source": [
    "..."
   ]
  },
  {
   "cell_type": "markdown",
   "metadata": {},
   "source": [
    "The second way to provide bins is where you provide the intervals of values you want for your bins. To create the bins you provide an array from the lowest bound to the upper bound of your histogram with each number in between them representing the start of a new bin. This allows us to make uneven bins and represent data in a unique and often deceiving way.\n",
    "\n",
    "To avoid making a bad plot, it is helpful to use `np.arange(start, end, step)` which can make an array of values that are evenly spaced from the start to the end. **Note: The end number is not included in the range!**"
   ]
  },
  {
   "cell_type": "code",
   "execution_count": null,
   "metadata": {},
   "outputs": [],
   "source": [
    "# ADDED BINS\n",
    "plt.title(\"Distribution of Weights\");\n",
    "\n",
    "# MATPLOTLIB\n",
    "plt.hist(weights.column('T'), bins=np.array([80, 100, 130, 140, 300]), density = True)\n",
    "\n",
    "# DATA 8 \n",
    "weights.hist('T', bins=np.array([80, 100, 130, 140, 300]))\n",
    "\n",
    "plt.xlabel(\"Weight (Pounds)\");"
   ]
  },
  {
   "cell_type": "markdown",
   "metadata": {},
   "source": [
    "#### COLOR"
   ]
  },
  {
   "cell_type": "markdown",
   "metadata": {},
   "source": [
    "For histograms, you can use only one color per dataset. If you have multiple histograms displayed over each other, each dataset will each have a single color. **Note: To plot two histograms over each other, you write the code for each in the same cell.**"
   ]
  },
  {
   "cell_type": "code",
   "execution_count": null,
   "metadata": {},
   "outputs": [],
   "source": [
    "# ADDED COLOR\n",
    "plt.hist(weights.column('T'), bins= 5, density = True, color='pink')\n",
    "plt.hist(weights.column('T'), bins= 15, density = True, color='yellow')\n",
    "\n",
    "plt.xlabel(\"Weight (Pounds)\")\n",
    "plt.ylabel('Percent per unit')\n",
    "plt.title(\"Distribution of Weights\");"
   ]
  },
  {
   "cell_type": "markdown",
   "metadata": {},
   "source": [
    "## Line Plots\n",
    "Line plots are used to contextualize a numerical data set in regards to the passage of time. Theses plots take a single numerical data set, and plot it across a time axis. The x-axis is chronological, and allows us to draw conclusions based on the patterns we see."
   ]
  },
  {
   "cell_type": "code",
   "execution_count": null,
   "metadata": {},
   "outputs": [],
   "source": [
    "over_time = Table().with_columns(\"Students\", np.array([4.5, 6.7, 8, 10, 15, 17 , 20]),\n",
    "                                 \"Years\", np.arange(1950, 2020, 10))\n",
    "over_time"
   ]
  },
  {
   "cell_type": "markdown",
   "metadata": {},
   "source": [
    "For the Data 8 format, we use `tbl.plot(...)`"
   ]
  },
  {
   "cell_type": "code",
   "execution_count": null,
   "metadata": {},
   "outputs": [],
   "source": [
    "over_time.plot(\"Years\", 'Students')\n",
    "plt.xlabel(\"Year\")\n",
    "plt.ylabel(\"Number of College Students (millions)\")\n",
    "plt.grid()"
   ]
  },
  {
   "cell_type": "markdown",
   "metadata": {},
   "source": [
    "Here is the matplotlib format: `plt.plot(...)`. Note: you can add a color argument to change the color of the line. If you are plotting multiple lines, then it is helpful to use different colors for each line. If you plot multiple lines, do not forget to add a legend to distinguish between lines."
   ]
  },
  {
   "cell_type": "code",
   "execution_count": null,
   "metadata": {},
   "outputs": [],
   "source": [
    "plt.plot(over_time.column('Years'), over_time.column('Students'), color='green')\n",
    "plt.xlabel(\"Year\")\n",
    "plt.ylabel(\"Number of College Students (millions)\")\n",
    "plt.grid()"
   ]
  },
  {
   "cell_type": "markdown",
   "metadata": {},
   "source": [
    "#### Marker & Markersize"
   ]
  },
  {
   "cell_type": "markdown",
   "metadata": {},
   "source": [
    "Markers are the points that are actually from your data or calculations. You can make those points stand out, so that you can distinguish between the lines that are estimates and the actual points. There are many different [markers](https://matplotlib.org/3.1.1/api/markers_api.html#module-matplotlib.markers), so please look over this list if you are interested in learning more about the different types. \n",
    "\n",
    "We can also change the size of the marker, so that it stands out more or even less."
   ]
  },
  {
   "cell_type": "code",
   "execution_count": null,
   "metadata": {},
   "outputs": [],
   "source": [
    "plt.plot(over_time.column('Years'), over_time.column('Students'), marker='o', markersize=5)\n",
    "plt.xlabel(\"Year\")\n",
    "plt.ylabel(\"Number of College Students (millions)\")\n",
    "plt.grid()"
   ]
  },
  {
   "cell_type": "markdown",
   "metadata": {},
   "source": [
    "#### Line style & Line width"
   ]
  },
  {
   "cell_type": "markdown",
   "metadata": {},
   "source": [
    "Separate from marker size is the style and width of the line. By deafult the line you plot will be a solid line with a small width. However, you can change it to a dotted line or dashed line by adding a [linestyle](https://matplotlib.org/3.1.1/api/_as_gen/matplotlib.lines.Line2D.html#matplotlib.lines.Line2D.set_linestyle). Or, by changing the width of the line. Here are two examples of different combinations."
   ]
  },
  {
   "cell_type": "code",
   "execution_count": null,
   "metadata": {},
   "outputs": [],
   "source": [
    "plt.plot(over_time.column('Years'), over_time.column('Students'), linestyle= '--', linewidth=5)\n",
    "plt.xlabel(\"Year\")\n",
    "plt.ylabel(\"Number of College Students (millions)\")\n",
    "plt.grid()"
   ]
  },
  {
   "cell_type": "markdown",
   "metadata": {},
   "source": [
    "### Question 6\n",
    "Make a single subplot that is properly labeled on a figure that is 9x9. Use a different marker than `o` and a markersize above 5. For the labels on the plot, use a consistent font across your labels and a readable fontsize. Add a different linestyle and width as you see fit!"
   ]
  },
  {
   "cell_type": "code",
   "execution_count": null,
   "metadata": {},
   "outputs": [],
   "source": [
    "..."
   ]
  },
  {
   "cell_type": "markdown",
   "metadata": {},
   "source": [
    "## Scatter Plots\n",
    "Scatter plots are graphs that compare the relationshp between two different numerical data sets. The relationship between the two data sets is also called the association between the two variables. \n",
    "\n",
    "The association can be positive or negative. If the association between the variables is positve, then the slope is positive. Meaning the two variables are both increasing or both decreasing. If the association between the variables is negative, then the slope is negative. Meaning that one variable is increasing, while the other is decreasing.\n",
    "\n",
    "The logic behind this is that:\n",
    "$$+/+ = +$$\n",
    "$$-/- = +$$\n",
    "\n",
    "And,\n",
    "$$+/- = -$$\n",
    "$$ -/+ = -$$\n",
    "\n",
    "Let's walk through an example with the following table."
   ]
  },
  {
   "cell_type": "code",
   "execution_count": null,
   "metadata": {},
   "outputs": [],
   "source": [
    "debt = Table().with_columns(\"Number of College Students (millions)\", [4.5,6.7, 8,10,15,17,20],\n",
    "                            \"Student Debt (thousands)\", [1, 3 ,5 ,8, 20, 25, 36])\n",
    "debt"
   ]
  },
  {
   "cell_type": "markdown",
   "metadata": {},
   "source": [
    "We can make a scatterplot to analyze the relationship between the two numerical variables by using `tbl.scatter(...)`. Notice that our axes are automatically labeled."
   ]
  },
  {
   "cell_type": "code",
   "execution_count": null,
   "metadata": {},
   "outputs": [],
   "source": [
    "debt.scatter(\"Number of College Students (millions)\", \"Student Debt (thousands)\")\n",
    "plt.grid()\n",
    "plt.show()"
   ]
  },
  {
   "cell_type": "markdown",
   "metadata": {},
   "source": [
    "Or, we can use `plt.scatter(...)` with the similar features as in linestyle and color."
   ]
  },
  {
   "cell_type": "code",
   "execution_count": null,
   "metadata": {},
   "outputs": [],
   "source": [
    "# Plot 1\n",
    "new_x = np.arange(4, 22)\n",
    "plt.plot(new_x, 2*new_x - 10, linestyle='-', color='purple')\n",
    "\n",
    "# Plot 2 with added color\n",
    "plt.scatter(debt.column(\"Number of College Students (millions)\"), debt.column(\"Student Debt (thousands)\"),\n",
    "            color = 'blue', marker = 'v')\n",
    "\n",
    "plt.xlabel(\"Number of College Students (millions)\")\n",
    "plt.ylabel(\"Student Debt (thousands)\")\n",
    "plt.grid()\n",
    "plt.show()"
   ]
  },
  {
   "cell_type": "markdown",
   "metadata": {},
   "source": [
    "### **You made it to the end!**"
   ]
  },
  {
   "cell_type": "markdown",
   "metadata": {},
   "source": [
    "These are only some tips for visualizations each depends on the actual data you are dealing with. Overall, using either the function as in Data 8 or the matplotlib version will create a plot that is useful. Depending on what you want to alter, one may be better than the other. "
   ]
  }
 ],
 "metadata": {
  "kernelspec": {
   "display_name": "Python 3",
   "language": "python",
   "name": "python3"
  },
  "language_info": {
   "codemirror_mode": {
    "name": "ipython",
    "version": 3
   },
   "file_extension": ".py",
   "mimetype": "text/x-python",
   "name": "python",
   "nbconvert_exporter": "python",
   "pygments_lexer": "ipython3",
   "version": "3.6.8"
  }
 },
 "nbformat": 4,
 "nbformat_minor": 2
}
