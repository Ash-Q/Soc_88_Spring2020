{
 "cells": [
  {
   "cell_type": "markdown",
   "metadata": {},
   "source": [
    "# [SOC-88] Visualizing Police Force Data\n",
    "\n",
    "### Professor David Harding\n",
    "\n",
    "## Table of Contents\n",
    "\n",
    "[Introduction](#intro)\n",
    "\n",
    "[Data Visualization](#1)\n",
    "\n",
    "- [Categorical Data](#1.1)\n",
    "    - [Question 1](#q1)\n",
    "\n",
    "- [Numerical Data](#1.2)\n",
    "    - [Question 2](#q2)\n",
    "\n",
    "[More Advanced Plots: Time of Incident](#2)"
   ]
  },
  {
   "cell_type": "markdown",
   "metadata": {},
   "source": [
    "## Introduction <a id='intro'></a>\n",
    "\n",
    "In this homework, you will practice different data visualization techniques you learned about in lecture. The police incidents data has been taken from [Open Data Minneapolis](http://opendata.minneapolismn.gov/). \n",
    "\n",
    "<img src=\"Data/7a9713-20180517-minneapolis-police-use-of-force-reduced.png\" style=\"width:600px\">\n",
    "\n",
    "<div style=\"text-align: right\">- Brandt Williams, <a href='https://www.mprnews.org/story/2018/05/18/use-of-force-by-minneapolis-police-down'>MPR News</a></div>\n",
    "\n",
    "There are two main data tables used in this assignment: **Police_Incidents_2019.csv** and **Police_Use_of_Force.csv**. \n",
    "\n",
    "The first file, **Police_Incidents_2019.csv**, has records of all police incidents that took place in 2019 (that is, until June 2016 as that was when we pulled the data). Its columns contain information such as the latitude-longitude information of incidents, police precinct and neighborhood in which the incident occurred, time and date of the report, type of crime, etc. \n",
    "\n",
    "The second file, **Police_Use_of_Force.csv**, has information on recorded force use (by the police) cases. It shares similar columns as the first file, such as the latitude-longitude information of incidents, what precinct and neighborhood the incident took place in, and date of the report. However, it also contains information specifically relevant to the use of force, like whether or not the subject was injured as a result of the force use, cause of intervention, what kind of force was used by an officer, subject's age, gender and race, etc.\n",
    "\n",
    "---\n"
   ]
  },
  {
   "cell_type": "markdown",
   "metadata": {},
   "source": [
    "First we will begin by running a code cell that will load the libraries you'll be using."
   ]
  },
  {
   "cell_type": "code",
   "execution_count": null,
   "metadata": {
    "collapsed": true
   },
   "outputs": [],
   "source": [
    "from datascience import *\n",
    "import numpy as np\n",
    "\n",
    "import matplotlib.pyplot as plt\n",
    "%matplotlib inline\n",
    "import datetime"
   ]
  },
  {
   "cell_type": "markdown",
   "metadata": {},
   "source": [
    "## Data Visualization <a id='1'></a>\n",
    "\n",
    "**Data visualization** is the graphical representation of information and data. By using visual elements like charts, graphs, and maps, data visualization tools provide an accessible way to see and understand patterns in data. The general goal of data visualization is to communicate key information clearly and efficiently to its audience. \n",
    "\n",
    "**Edward Tufte**, in his book *The Visual Display of Quantitative Information*, stated that effective data visualization should:\n",
    "\n",
    "- avoid distorting what the data has to say\n",
    "- present many numbers in a small space\n",
    "- encourage the eye to compare different pieces of data\n",
    "- serve a reasonably clear purpose: description, exploration, tabulation or decoration\n",
    "- ...and more\n",
    "\n",
    "More about Tufte's theory can be found [here](https://moz.com/blog/data-visualization-principles-lessons-from-tufte).\n",
    "\n",
    "Let's first explore the two datasets read in as datascience tables `incidents` and `force`. We can see that there are quite a number of columns for both tables. Can you find the columns corresponding to what's been mentioned in the description of csv files? What are some notable differences between the two tables?"
   ]
  },
  {
   "cell_type": "code",
   "execution_count": null,
   "metadata": {},
   "outputs": [],
   "source": [
    "# Police Incident Data, 2019\n",
    "incidents = Table().read_table('Data/Police_Incidents_2019.csv')\n",
    "incidents.show(5)"
   ]
  },
  {
   "cell_type": "code",
   "execution_count": null,
   "metadata": {},
   "outputs": [],
   "source": [
    "# Police Use of Force Records\n",
    "force = Table().read_table('Data/Police_Use_of_Force.csv')\n",
    "force.show(5)"
   ]
  },
  {
   "cell_type": "markdown",
   "metadata": {},
   "source": [
    "## Categorical Data <a id='1.1'></a>\n",
    "\n",
    "A **categorical variable** is a variable that can take on one of a limited number of possible values. Examples of categorical variables include race and neighborhoods. For instance,\n",
    "\n",
    "- The category \"race\" could contain the values \"African American\", \"Asian\", \"Hispanic\" or \"Caucasian\".\n",
    "- The category \"neighborhoods\" could contain the values \"Windom Park\", \"Hawthorne\" or \"Standish\".\n",
    "\n",
    "Categorical variables can be divided into two types: **nominal** and **ordinal**. There is no inherent order to nominal variables. Stated differently, they aren't ranked according to an order system. The type of variable that has a logical order, such as type of degree completed or age group, are referred to as ordinal variables instead. Age group is an important example because it is based on a numerical example, but because numerical age values have been collapsed into groups, it is an ordinal variable.\n",
    "\n",
    "The `incidents` table has the following categorical variables: offense, description, neighborhood\n",
    "\n",
    "\n",
    "### Question 1 <a id='q1'></a>\n",
    "Choose an appropriate visualization to look at the distribution of the types of incidents. Use the code cell below to create and design your plot. Then, describe your design choices in making the plot."
   ]
  },
  {
   "cell_type": "code",
   "execution_count": null,
   "metadata": {
    "collapsed": true
   },
   "outputs": [],
   "source": [
    "# your code here\n",
    "..."
   ]
  },
  {
   "cell_type": "markdown",
   "metadata": {},
   "source": [
    "**Describe the features you choose here.** Some questions to address: Did you keep nan values? What do those values represent in the data? Did you order the data in any particular way? Why? What other design choices did you make? What message are you trying to communicate, and what decisions did you make in order to do so? Please answer in 5-6 sentences."
   ]
  },
  {
   "cell_type": "markdown",
   "metadata": {},
   "source": [
    "*Replace this line with your answer*"
   ]
  },
  {
   "cell_type": "markdown",
   "metadata": {},
   "source": [
    "## Numerical Data <a id='1.2'></a>\n",
    "\n",
    "A **numerical variable** may also be called a continuous variable; it is a variable that can take on any value within a finite or infinite range. For example:\n",
    "\n",
    "- The numerical variable \"age\" may take on the value 0, 1, 2 .... on to the age of the oldest person in our dataset.\n",
    "- The numerical variable \"count\" may take on the value 0, 1, 2, .... up to however many things we are counting.\n",
    "\n",
    "The `force` table has the following numerical variables: EventAge, TotalCityCallsForYear, TotalPrecinctCallsForYear, TotalNeighborhoodCallsForYear, as well as X/Y and Latitude/Longitude.\n",
    "\n",
    "\n",
    "### Question 2 <a id='q2'></a>\n",
    "At what age are people experiencing the most incidences of force? In the cell below, choose an appropriate visualization to look at the distribution of ages for individuals who experienced an incident with force. Use subplots to create side by side plots with the distribution of ages for male and female individuals."
   ]
  },
  {
   "cell_type": "code",
   "execution_count": null,
   "metadata": {
    "collapsed": true
   },
   "outputs": [],
   "source": [
    "# your code here\n",
    "..."
   ]
  },
  {
   "cell_type": "markdown",
   "metadata": {},
   "source": [
    "**Describe the features you choose here.** Some questions to address: Did you keep nan values? What do those values represent in the data? Did you order the data in any particular way? What other design choices did you make and why? Did you make choices about the scaling of axes for the side by side plots? What message are you trying to communicate, and what decisions did you make in order to do so? Please answer in 5-6 sentences."
   ]
  },
  {
   "cell_type": "markdown",
   "metadata": {},
   "source": [
    "*Replace this line with your answer*"
   ]
  },
  {
   "cell_type": "markdown",
   "metadata": {},
   "source": [
    "## A Brief Lesson on More Advanced Plots: Time of Incidence<a id='2'></a>\n",
    "\n",
    "Please note that this is just an extra lesson, and all code is provided. We have included it so that you can learn about different ways to visually represent the data in the incidents table.\n",
    "\n",
    "The `incidents` table includes information on time and date of when individual incident occurred. A **heatmap** is a graphical representation of data where the individual values contained in a matrix are represented as colors, and it is a good way to visualize concentration of incident occurence defined with two variables, in this case *time* and *weekday*. Below, we will create a heatmap to illustrate when incidents were most likely to occur.\n",
    "\n",
    "First, we define the `weekday` column of the `incidents` table to be a [datetime](https://docs.python.org/2/library/datetime.html) conversion of the `beginDate` column, which has read in datetime values as strings. Don't worry too much if the code looks too complicated, as it's simply a matter of reading in the datetime objects. The code can be copied and pasted exactly as it is in most cases.\n",
    "\n",
    "Once converted to datetime objects, we can use the method `weekday()` to find out the weekday of a given date. For instace, the date 2019-03-13 happened to be a Wednesday, thus the method `weekday()` on this datetime object would return the value 2 (which corresponds to a Wednesday). For readability, we've converted the numbers to the actual names of the days. \n",
    "\n",
    "We also create a column for hour of day during which the incident occurred, by ignoring the minute value of the begin time."
   ]
  },
  {
   "cell_type": "code",
   "execution_count": null,
   "metadata": {},
   "outputs": [],
   "source": [
    "def convert_to_weekday(x):\n",
    "    return datetime.datetime.strptime(x, '%Y-%m-%dT%H:%M:%S.000Z').weekday()\n",
    " \n",
    "weekdays = [convert_to_weekday(incidents['beginDate'][i]) for i in range(len(incidents.column('beginDate')))]\n",
    "days = {0:'Monday', 1:'Tuesday', 2:'Wednesday', \\\n",
    "                        3:'Thursday', 4:'Friday', 5:'Saturday', 6:'Sunday'}\n",
    "weekdays = [days[i] for i in weekdays]\n",
    "hour = incidents['beginTime']//100\n",
    "\n",
    "incidents = incidents.with_columns('weekday', weekdays, 'hour', hour)\n",
    "incidents.show(5)"
   ]
  },
  {
   "cell_type": "markdown",
   "metadata": {},
   "source": [
    "In order to create a heatmap, it is necessary to create a matrix where columns represent the hours and the rows represent the weekdays.\n",
    "\n",
    "The values in the individual coordinates of the matrix would be the total count of incidents that correspond to the specific hour and weekday, as in 87 incidents occurred on Wednesday at 3pm in 2019. We can derive these count values using the `group` method to the `incidents` table and passing in a list of `weekday` and `hour` as a parameter to the method.\n",
    "\n",
    "    incidents.group(['weekday', 'hour'])\n",
    "\n",
    "In order to get the weekdays as rows and the hours as columns, we pivot the table. The `'count'` and `sum` arguments preserve the groupby values as we pivot the table.\n",
    "\n",
    "    pivot('hour', 'weekday', 'count', sum)\n",
    "    "
   ]
  },
  {
   "cell_type": "code",
   "execution_count": null,
   "metadata": {},
   "outputs": [],
   "source": [
    "# Constructing 2d array for visualization with heatmap.\n",
    "hour_weekday_matrix = incidents.group(['weekday', 'hour'])\n",
    "hour_weekday_matrix = hour_weekday_matrix.pivot('hour', 'weekday', 'count', sum)\n",
    "hour_weekday_matrix"
   ]
  },
  {
   "cell_type": "markdown",
   "metadata": {},
   "source": [
    "We hope the above matrix is starting to make things a little bit clearer. However, there is one issue with the visualization, namely that the weekday values are not ordered logically. We can address this issue by manually changing this order. At this point, we'll switch over to using the python package [pandas](https://pandas.pydata.org/docs/). It'll help us with sorting the values in our matrix in a particular order, and it works well with the visualization library [seaborn](https://seaborn.pydata.org/), which we're using to create the heatmap. You aren't expected to know how to use pandas or seaborn, but we're introducing them here to show what other types of visualizations you could make with the incident data."
   ]
  },
  {
   "cell_type": "code",
   "execution_count": null,
   "metadata": {
    "collapsed": true
   },
   "outputs": [],
   "source": [
    "# Ordering new 2d array by weekday.\n",
    "import pandas as pd\n",
    "\n",
    "weekday_order = ['Monday', 'Tuesday', 'Wednesday', 'Thursday', 'Friday', 'Saturday', 'Sunday']\n",
    "hour_weekday_matrix_df = hour_weekday_matrix.to_df()\n",
    "hour_weekday_matrix_df = hour_weekday_matrix_df.set_index('weekday').reindex(weekday_order)"
   ]
  },
  {
   "cell_type": "markdown",
   "metadata": {},
   "source": [
    "Now that both the rows and columns are ordered, we can plot our heatmap using the **seaborn** package method `heatmap`:\n",
    "\n",
    "    sns.heatmap(dataframe)\n",
    "    \n",
    "The basic idea is to represent the above matrix with colors, having a specific color range represent numerical values of each coordinate. The `cmap` parameter of the method simply defines the color map of the visualization. The list of color maps can be found in [this link](https://seaborn.pydata.org/tutorial/color_palettes.html)."
   ]
  },
  {
   "cell_type": "code",
   "execution_count": null,
   "metadata": {},
   "outputs": [],
   "source": [
    "# Graphing the heatmap.\n",
    "import seaborn as sns\n",
    "\n",
    "fig, ax = plt.subplots(1, figsize=(20, 8))\n",
    "sns.heatmap(hour_weekday_matrix_df, cmap='BuPu')\n",
    "ax.set_title('Incident Time and Weekday, 2019',\\\n",
    "            fontdict={'fontsize': '15', 'fontweight' : '3'});"
   ]
  },
  {
   "cell_type": "markdown",
   "metadata": {},
   "source": [
    "What kind of insights can you gain from the visualization above? What can you tell about the time incidents were most likely to occur? What can you tell about the weekday? Can you think of an explanation behind your findings?\n",
    "\n",
    "The visualization makes it clear to the audience that incidents are concentrated in the evenings, and are more likely to occur on weekends than on weekdays. This would make sense because people are generally more active after work hours. However, be aware that the concentration of values at 0 hour could be a result of recording `nan` values as 0's. This needs further exploration of the data for clarification.\n",
    "\n",
    "Contratulations on making it this far! Don't be too alarmed if you find the above steps overwhelming. These concepts are quite complicated for someone just starting to learn about data visualization, and we just wanted you to get a sense of what's possible with Python. \n",
    "\n",
    "Feel free to experiment with the code blocks above to find out what each step is doing to manipulate the given data. Just make sure to reset the variable to what we've defined it to be originally.\n",
    "\n",
    "---\n",
    "\n",
    "Notebook developed by: Damien Kwon, Keilyn Yuzuki\n",
    "\n",
    "Data Science Modules: http://data.berkeley.edu/education/modules\n",
    "\n",
    "Data Science Offerings at Berkeley: https://data.berkeley.edu/academics/undergraduate-programs/data-science-offerings\n",
    "\n"
   ]
  }
 ],
 "metadata": {
  "kernelspec": {
   "display_name": "Python 3",
   "language": "python",
   "name": "python3"
  },
  "language_info": {
   "codemirror_mode": {
    "name": "ipython",
    "version": 3
   },
   "file_extension": ".py",
   "mimetype": "text/x-python",
   "name": "python",
   "nbconvert_exporter": "python",
   "pygments_lexer": "ipython3",
   "version": "3.6.8"
  }
 },
 "nbformat": 4,
 "nbformat_minor": 2
}
