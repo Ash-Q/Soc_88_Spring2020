{
 "cells": [
  {
   "cell_type": "markdown",
   "metadata": {},
   "source": [
    "# [SOC-88] Mapping Lab 2: Choropleth Maps\n",
    "## Professor David Harding\n",
    "\n",
    "### Table of Contents\n",
    "- [Introduction](#intro)\n",
    "- [1. Intro to Geojson](#1)\n",
    "- [2. Intro to Choropleth Maps](#2)\n",
    "- [3. Intro to Colormaps](#3)\n",
    "- [4. Choropleth Overlays](#4)\n",
    "    - [Question 1: Reading Colormaps](#q1)\n",
    "    - [Question 2: Bins](#q2)\n",
    "    - [Question 3: Your Turn!](#q3)\n",
    "- [Challenge Question](#q4)\n",
    "\n",
    "**Dependencies**"
   ]
  },
  {
   "cell_type": "code",
   "execution_count": null,
   "metadata": {},
   "outputs": [],
   "source": [
    "# just run this cell\n",
    "from datascience import *\n",
    "import matplotlib.pyplot as plt\n",
    "%matplotlib inline\n",
    "import numpy as np\n",
    "import folium\n",
    "import json\n",
    "import os"
   ]
  },
  {
   "cell_type": "markdown",
   "metadata": {},
   "source": [
    "# Introduction <a id='intro'></a>\n",
    "In this lab, we will cover the creation and design of choropleth maps. We will be using the same police incident data from the visualization homework and mapping lab 1. As a refresher, the police incident data is from [Open Data Minneapolis](http://opendata.minneapolismn.gov/). It contains records of all police incidents and its columns contain information such as the latitude-longitude information of incidents, police precinct and neighborhood in which the incident occurred, time and date of the report, type of crime, etc. "
   ]
  },
  {
   "cell_type": "code",
   "execution_count": null,
   "metadata": {
    "scrolled": true
   },
   "outputs": [],
   "source": [
    "incidents = Table().read_table('data/Police_Incidents_2019.csv')\n",
    "incidents.show(5)"
   ]
  },
  {
   "cell_type": "markdown",
   "metadata": {},
   "source": [
    "# 1. Intro to Geojson <a id = '1'></a>\n",
    "[Geojson](https://geojson.org/) is a file format that is used to represent various types of geographical data. We won't get into the details, but geojson files are useful for storing geographic data in a simple way that computers are able to load quickly. They are python dictionaries that may contain data about shapes on a map, defined by a series of coordinates, along with names and other relevant information. \n",
    "\n",
    "Our neighborhood geojson file, loaded below as `neighborhoods`, contains the names and boundaries of neighborhoods in Minneapolis. Similarly, the police precints geojson file loaded as `precincts` contains information about the borders for Minneapolis police precincts.\n",
    "\n",
    "These geojson files let us visualize boundaries on a map. Below, we use the `neighborhoods` and `precincts` geojson files to show the boundaries of neighborhoods in black and the precinct boundaries in blue."
   ]
  },
  {
   "cell_type": "code",
   "execution_count": null,
   "metadata": {},
   "outputs": [],
   "source": [
    "neighborhoods = json.load(open('data/Minneapolis_Neighborhoods.geojson'))\n",
    "precincts = json.load(open('data/Minneapolis_Police_Precincts.geojson'))"
   ]
  },
  {
   "cell_type": "code",
   "execution_count": null,
   "metadata": {},
   "outputs": [],
   "source": [
    "# example of what the json looks like\n",
    "precincts"
   ]
  },
  {
   "cell_type": "code",
   "execution_count": null,
   "metadata": {},
   "outputs": [],
   "source": [
    "minneapolis_coords = [44.977, -93.265] # this is the geographic center of minneapolis\n",
    "m = folium.Map(minneapolis_coords, zoom_start=12)\n",
    "\n",
    "# neighborhoods\n",
    "folium.GeoJson(\n",
    "    neighborhoods,\n",
    "    style_function=lambda feature: {\n",
    "        'fillColor': 'white',\n",
    "        'color': 'black',\n",
    "        'weight': 2,\n",
    "        'dashArray': '5, 5'\n",
    "    }\n",
    ").add_to(m)\n",
    "\n",
    "# precincts\n",
    "folium.GeoJson(\n",
    "    precincts,\n",
    "    style_function=lambda feature: {\n",
    "        'fillColor': 'white',\n",
    "        'color': 'blue',\n",
    "        'weight': 2,\n",
    "        'dashArray': '5, 5'\n",
    "    }\n",
    ").add_to(m)\n",
    "\n",
    "m"
   ]
  },
  {
   "cell_type": "markdown",
   "metadata": {},
   "source": [
    "# 2. Intro to Choropleth Maps <a id = '2'></a>\n",
    "A choropleth overlay, or choropleth map, is a type of map which uses color to represent statistical information. Choropleth maps can be used to convey information such as population density, poverty rates, unemployment rates, or in our case, police incidents. They are often used when visualizing a statistic that varies geographically. Through the use of mapping techniques, a choropleth overlay can succintly represent geographical differences between areas. Below is an example of a choropleth map that shows the unemployment rate by state - later on in the lab, we will create our own choropleth map based on the police incidents data.\n",
    "\n",
    "<img src=\"images/choropleth-example.PNG\" style=\"width:600px\">"
   ]
  },
  {
   "cell_type": "markdown",
   "metadata": {},
   "source": [
    "# 3. Intro to Colormaps <a id='3'></a>\n"
   ]
  },
  {
   "cell_type": "markdown",
   "metadata": {},
   "source": [
    "A colormap is a collection of colors that are used to represent sequences of information on a given scale. Matplotlib has many different colormap options, but there are a lot of things to keep in mind when choosing a colormap beside which one looks the prettiest. Matplotlib has a [useful guide](https://matplotlib.org/tutorials/colors/colormaps.html) for choosing colormaps. Some things to keep in mind:\n",
    "\n",
    "- what type of data are you representing?\n",
    "- is there a critical value in the data from which other values deviate?\n",
    "- is there an intuitive color scheme? (for example, political preferences, or green is good and red is bad)\n",
    "\n",
    "Most often, colormaps follow a uniform scale, where equal steps in the data are represented as equal steps in the color space.\n",
    "There are many different colormap options, some of which are shown below. The full list can be found [here](https://matplotlib.org/gallery/color/colormap_reference.html).\n",
    "\n",
    "<img src=\"images/colormap-example.PNG\" style=\"width:600px\">\n",
    "\n",
    "In order to set a colormap option, we will provide an arugment to the `cmap` option in matplotlib. For example: `cmap = 'viridis'` sets the colormap to follow the viridis pattern as seen above. Colormap options are split into several categories based on function, and different options may convey different meanings. For example, one may want to use a different colormap when plotting qualitative data with no particular order, than when plotting diverging data where information deviates around a meaninful point. In folium, colormaps are set with the parameter `fill_color`, and there are limited supported colormaps. They are as follows: 'BuGn', 'BuPu', 'GnBu', 'OrRd', 'PuBu', 'PuBuGn', 'PuRd', 'RdPu', 'YlGn', 'YlGnBu', 'YlOrBr', and 'YlOrRd'."
   ]
  },
  {
   "cell_type": "markdown",
   "metadata": {},
   "source": [
    "# 4. Choropleth Overlays\n",
    "In this section, we will go over how to add a choropleth overlay to a folium map. This will build on mapping lab 1, where you were introduced to basic mapping in folium. First, we'll load a blank map of Minneapolis."
   ]
  },
  {
   "cell_type": "code",
   "execution_count": null,
   "metadata": {},
   "outputs": [],
   "source": [
    "minneapolis_coords = [44.977, -93.265]\n",
    "m = folium.Map(minneapolis_coords, zoom_start=12)\n",
    "m"
   ]
  },
  {
   "cell_type": "markdown",
   "metadata": {},
   "source": [
    "In order to visualize the number of incidents by police precinct, we need to group our incidents data."
   ]
  },
  {
   "cell_type": "code",
   "execution_count": null,
   "metadata": {},
   "outputs": [],
   "source": [
    "precinct_incidents = incidents.group('precinct')\n",
    "precinct_incidents"
   ]
  },
  {
   "cell_type": "markdown",
   "metadata": {},
   "source": [
    "'UI' seems to be some type of label for an unidentified or missing precinct, and since this won't be displayed in our choropleth overlay we can simply remove it from our table."
   ]
  },
  {
   "cell_type": "code",
   "execution_count": null,
   "metadata": {},
   "outputs": [],
   "source": [
    "precinct_incidents = precinct_incidents.take[:5]\n",
    "precinct_incidents"
   ]
  },
  {
   "cell_type": "markdown",
   "metadata": {},
   "source": [
    "Folium uses [pandas dataframes](https://pandas.pydata.org/pandas-docs/stable/reference/api/pandas.DataFrame.html) instead of tables from the `datascience` library, so we will need to convert our table of incidents per precinct to a dataframe in order to shade by counts. We have provided code to do so in the cell below. A pandas dataframe is very similar to a table, but has slightly different functionality and methods.\n",
    "\n",
    "We also need to make sure that the precinct labels match the labels in our geojson file, and since they're strings in the geojson we must convert them in the dataframe."
   ]
  },
  {
   "cell_type": "code",
   "execution_count": null,
   "metadata": {},
   "outputs": [],
   "source": [
    "precinct_incidents_df = precinct_incidents.to_df()\n",
    "precinct_incidents_df['precinct'] = ['1', '2', '3', '4', '5']\n",
    "precinct_incidents_df"
   ]
  },
  {
   "cell_type": "markdown",
   "metadata": {},
   "source": [
    "In the cell below, we create a choropleth map that shows the number of incidents per precinct in Minneapolis. We pass in our `precinct_incidents_df` to the keyword argument `data`, which provides the information for the color overlay. `columns` and `key_on` provide information on how to link the data from the dataframe to the geojson. The keyword arguments `bins`, `fill_color`, `fill_opacity`, and `legend_name` allow us to customize the design of our overlay. "
   ]
  },
  {
   "cell_type": "code",
   "execution_count": null,
   "metadata": {},
   "outputs": [],
   "source": [
    "m = folium.Map(minneapolis_coords, zoom_start=12)\n",
    "folium.Choropleth(\n",
    "    geo_data=precincts,\n",
    "    data=precinct_incidents_df,\n",
    "    columns=['precinct', 'count'],\n",
    "    key_on='feature.properties.PRECINCT',\n",
    "    bins = 5,\n",
    "    fill_color='YlOrRd',\n",
    "    fill_opacity=0.8,\n",
    "    legend_name='Number of Incidents'\n",
    ").add_to(m)\n",
    "m"
   ]
  },
  {
   "cell_type": "markdown",
   "metadata": {},
   "source": [
    "With so many different keyword arguments, there is a lot of control that you have over the design of your choropleth map. You can change the colormap with the `fill_color` argument, you can change the bins with the `bins` argument, you can change the opacity of the shading with `fill_opacity`, and a lot more.\n",
    "\n",
    "**Note:** Since we are \"binding\" data, as in displaying data from a table in our map, we are limited to a certain few supported colormaps. Above, we have used `YlOrRd` which creates a scale of the colors yellow, orange, and red. The list of folium supported colormaps are as follows: 'BuGn', 'BuPu', 'GnBu', 'OrRd', 'PuBu', 'PuBuGn', 'PuRd', 'RdPu', 'YlGn', 'YlGnBu', 'YlOrBr', and 'YlOrRd'. When selecting the colormap for your choropleth overlay, be sure to choose from the supported ones."
   ]
  },
  {
   "cell_type": "markdown",
   "metadata": {},
   "source": [
    "### Question 1: Reading Colormaps <a id='q1'></a>\n",
    "Look at the choropleth map above. What can you say about the precinct that has the darkest red color? Look at the values of the `precinct_incidents` table and sort by descending number of counts. What do you notice about the distribution of counts? Does it have a major effect on the coloring of the map?"
   ]
  },
  {
   "cell_type": "markdown",
   "metadata": {},
   "source": [
    "*Replace this line with your answer*"
   ]
  },
  {
   "cell_type": "code",
   "execution_count": null,
   "metadata": {},
   "outputs": [],
   "source": [
    "# your code here\n",
    "precinct_incidents..."
   ]
  },
  {
   "cell_type": "markdown",
   "metadata": {},
   "source": [
    "With the `bins` argument, we have control over how we divide up the coloring. We can pass in a list of the specific bins we want, so theoretically we could have bins so that each precinct is in its own bin.  \n",
    "\n",
    "If you have an interesting distribution of counts with possible outliers, plotting the quantile may help us see better how incidents are distributed. `quantile` is a method of a pandas dataframe, and we've provided an example of how to use it below."
   ]
  },
  {
   "cell_type": "code",
   "execution_count": null,
   "metadata": {},
   "outputs": [],
   "source": [
    "precinct_bins = list(precinct_incidents_df['count'].quantile([0, 0.25, 0.5, 0.75, 1]))\n",
    "precinct_bins"
   ]
  },
  {
   "cell_type": "code",
   "execution_count": null,
   "metadata": {},
   "outputs": [],
   "source": [
    "m = folium.Map(minneapolis_coords, zoom_start=12)\n",
    "folium.Choropleth(\n",
    "    geo_data=precincts,\n",
    "    data=precinct_incidents_df,\n",
    "    columns=['precinct', 'count'],\n",
    "    key_on='feature.properties.PRECINCT',\n",
    "    bins = precinct_bins,\n",
    "    fill_color='YlOrRd',\n",
    "    fill_opacity=0.8,\n",
    "    legend_name='Number of Incidents'\n",
    ").add_to(m)\n",
    "m"
   ]
  },
  {
   "cell_type": "markdown",
   "metadata": {},
   "source": [
    "### Question 2: Bins <a id='q2'></a>\n",
    "Does this map with more specific bins tell you anything more about the geographic distribution of incidents than the first map? In what scenarios would having more specific bins, or bins of different size, help in understanding where incidents take place?"
   ]
  },
  {
   "cell_type": "markdown",
   "metadata": {},
   "source": [
    "*Replace this line with your answer*"
   ]
  },
  {
   "cell_type": "markdown",
   "metadata": {},
   "source": [
    "### Question 3: Your turn! <a id='q3'></a>\n",
    "Now that you've seen how to create a choropleth overlay for number of incidents per precinct, let's try making a choropleth overlay for the number of incidents per neighborhood. First, group the incidents data so that you get the count of incidents per neighborhood."
   ]
  },
  {
   "cell_type": "code",
   "execution_count": null,
   "metadata": {},
   "outputs": [],
   "source": [
    "neighborhood_incidents = incidents...\n",
    "neighborhood_incidents"
   ]
  },
  {
   "cell_type": "markdown",
   "metadata": {},
   "source": [
    "As mentioned before, folium uses pandas dataframes instead of datascience tables. Run the cell below to convert your grouped table into a dataframe."
   ]
  },
  {
   "cell_type": "code",
   "execution_count": null,
   "metadata": {},
   "outputs": [],
   "source": [
    "neighborhood_incidents_df = neighborhood_incidents.to_df()\n",
    "neighborhood_incidents_df.head()"
   ]
  },
  {
   "cell_type": "markdown",
   "metadata": {},
   "source": [
    "In the cell below, fill in the keyword arguments for `bins`, `fill_color`, `fill_opacity`, and `legend_name`. Think about how the data are distributed, and make your design choices appropriately. "
   ]
  },
  {
   "cell_type": "code",
   "execution_count": null,
   "metadata": {},
   "outputs": [],
   "source": [
    "m = folium.Map(minneapolis_coords, zoom_start=12)\n",
    "folium.Choropleth(\n",
    "    geo_data=precincts,\n",
    "    data=precinct_incidents_df,\n",
    "    columns=['precinct', 'count'],\n",
    "    key_on='feature.properties.PRECINCT',\n",
    "    bins = ...,\n",
    "    fill_color=...,\n",
    "    fill_opacity=...,\n",
    "    legend_name=...\n",
    ").add_to(m)\n",
    "m"
   ]
  },
  {
   "cell_type": "markdown",
   "metadata": {},
   "source": [
    "Below, explain the design choices you made for your choropleth overlay."
   ]
  },
  {
   "cell_type": "markdown",
   "metadata": {},
   "source": [
    "*Replace this line with your answer*"
   ]
  },
  {
   "cell_type": "markdown",
   "metadata": {},
   "source": [
    "# Challenge Question: Police Use of Force <a id='q4'></a>\n",
    "\n",
    "In the first visualization homework, we also looked at the dataset for police use of force. We've loaded that data below in the `force` table. Use what you've learned in this lab to create a choropleth overlay for the cases of force use in each neighborhood. We've provided the skeleton code for the map, but you are responsible for getting the force data into the correct format. Remember that folium takes in pandas dataframes - see above questions on how to convert a table to a dataframe."
   ]
  },
  {
   "cell_type": "code",
   "execution_count": null,
   "metadata": {
    "scrolled": true
   },
   "outputs": [],
   "source": [
    "force = Table().read_table('data/Police_Use_of_Force.csv')\n",
    "force.show(5)"
   ]
  },
  {
   "cell_type": "code",
   "execution_count": null,
   "metadata": {},
   "outputs": [],
   "source": [
    "# your code here"
   ]
  },
  {
   "cell_type": "code",
   "execution_count": null,
   "metadata": {},
   "outputs": [],
   "source": [
    "m = folium.Map(minneapolis_coords, zoom_start=12)\n",
    "folium.Choropleth(\n",
    "    geo_data=neighborhoods, # neighborhood geojson file\n",
    "    data=..., # your neighborhood counts dataframe\n",
    "    columns=['Neighborhood', 'count'], # columns of your dataframe \n",
    "    key_on='feature.properties.BDNAME', # neighborhood name from geojson file\n",
    "    bins = ...,\n",
    "    fill_color=...,\n",
    "    fill_opacity=...,\n",
    "    legend_name=...\n",
    ").add_to(m)\n",
    "m"
   ]
  },
  {
   "cell_type": "markdown",
   "metadata": {},
   "source": [
    "**Describe your design choices for your map below**"
   ]
  },
  {
   "cell_type": "markdown",
   "metadata": {},
   "source": [
    "*Replace this line with your answer*"
   ]
  },
  {
   "cell_type": "markdown",
   "metadata": {},
   "source": [
    "## Bibliography \n",
    "\n",
    "- Folium - Image example of choropleth map. https://python-visualization.github.io/folium/quickstart.html\n",
    "- Matplotlib - Image example of colormap. https://matplotlib.org/gallery/color/colormap_reference.html\n",
    "- Open Data Minneapolis - Police Incident and Police Force data. http://opendata.minneapolismn.gov/"
   ]
  },
  {
   "cell_type": "markdown",
   "metadata": {},
   "source": [
    "---\n",
    "\n",
    "Notebook developed by: Keilyn Yuzuki\n",
    "\n",
    "Data Science Modules: http://data.berkeley.edu/education/modules\n",
    "\n",
    "Data Science Offerings at Berkeley: https://data.berkeley.edu/academics/undergraduate-programs/data-science-offerings"
   ]
  },
  {
   "cell_type": "code",
   "execution_count": null,
   "metadata": {},
   "outputs": [],
   "source": []
  }
 ],
 "metadata": {
  "kernelspec": {
   "display_name": "Python 3",
   "language": "python",
   "name": "python3"
  },
  "language_info": {
   "codemirror_mode": {
    "name": "ipython",
    "version": 3
   },
   "file_extension": ".py",
   "mimetype": "text/x-python",
   "name": "python",
   "nbconvert_exporter": "python",
   "pygments_lexer": "ipython3",
   "version": "3.7.4"
  }
 },
 "nbformat": 4,
 "nbformat_minor": 4
}
